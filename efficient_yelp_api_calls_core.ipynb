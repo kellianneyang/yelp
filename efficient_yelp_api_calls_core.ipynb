{
 "cells": [
  {
   "cell_type": "markdown",
   "id": "17ceafb0",
   "metadata": {},
   "source": [
    "# Efficient Yelp API Calls (Core)"
   ]
  },
  {
   "cell_type": "markdown",
   "id": "19c13081",
   "metadata": {},
   "source": [
    "**Goal:** \n",
    "\n",
    "Use the Yelp API to search your favorite city for a cuisine type of your choice.\n",
    "\n",
    "Extract all of the results from your search and compile them into one dataframe using a for loop."
   ]
  },
  {
   "cell_type": "code",
   "execution_count": 1,
   "id": "c9d7cfee",
   "metadata": {},
   "outputs": [
    {
     "name": "stdout",
     "output_type": "stream",
     "text": [
      "Requirement already satisfied: YelpAPI in c:\\users\\yang0108\\appdata\\local\\anaconda3\\envs\\dojo-env\\lib\\site-packages (2.5.0)\n",
      "Requirement already satisfied: requests in c:\\users\\yang0108\\appdata\\local\\anaconda3\\envs\\dojo-env\\lib\\site-packages (from YelpAPI) (2.28.1)\n",
      "Requirement already satisfied: urllib3<1.27,>=1.21.1 in c:\\users\\yang0108\\appdata\\local\\anaconda3\\envs\\dojo-env\\lib\\site-packages (from requests->YelpAPI) (1.26.13)\n",
      "Requirement already satisfied: charset-normalizer<3,>=2 in c:\\users\\yang0108\\appdata\\local\\anaconda3\\envs\\dojo-env\\lib\\site-packages (from requests->YelpAPI) (2.0.4)\n",
      "Requirement already satisfied: idna<4,>=2.5 in c:\\users\\yang0108\\appdata\\local\\anaconda3\\envs\\dojo-env\\lib\\site-packages (from requests->YelpAPI) (3.4)\n",
      "Requirement already satisfied: certifi>=2017.4.17 in c:\\users\\yang0108\\appdata\\local\\anaconda3\\envs\\dojo-env\\lib\\site-packages (from requests->YelpAPI) (2022.12.7)\n"
     ]
    }
   ],
   "source": [
    "!pip install YelpAPI"
   ]
  },
  {
   "cell_type": "code",
   "execution_count": 2,
   "id": "bcde2a5c",
   "metadata": {},
   "outputs": [],
   "source": [
    "# imports\n",
    "\n",
    "import os, json, math, time\n",
    "from yelpapi import YelpAPI\n",
    "from tqdm.notebook import tqdm_notebook\n",
    "import pandas as pd\n",
    "import numpy as np\n",
    "import matplotlib.pyplot as plt\n",
    "import seaborn as sns"
   ]
  },
  {
   "cell_type": "code",
   "execution_count": 3,
   "id": "a163752e",
   "metadata": {},
   "outputs": [
    {
     "data": {
      "text/plain": [
       "dict_keys(['client-id', 'api-key'])"
      ]
     },
     "execution_count": 3,
     "metadata": {},
     "output_type": "execute_result"
    }
   ],
   "source": [
    "# import json to read yelp api credentials\n",
    "import json\n",
    "\n",
    "# with open: yelp api credentials (save as variable)\n",
    "with open('/Users/yang0108/.secret/yelp_api.json') as f:\n",
    "    login = json.load(f)\n",
    "\n",
    "login.keys()"
   ]
  },
  {
   "cell_type": "code",
   "execution_count": 4,
   "id": "bbf11287",
   "metadata": {},
   "outputs": [
    {
     "data": {
      "text/plain": [
       "<yelpapi.yelpapi.YelpAPI at 0x1b5818cf250>"
      ]
     },
     "execution_count": 4,
     "metadata": {},
     "output_type": "execute_result"
    }
   ],
   "source": [
    "# import yelpapi class\n",
    "from yelpapi import YelpAPI\n",
    "\n",
    "# create instance with api key\n",
    "yelp_api = YelpAPI(login['api-key'], timeout_s = 5.0)\n",
    "yelp_api"
   ]
  },
  {
   "cell_type": "code",
   "execution_count": 5,
   "id": "a55c2500",
   "metadata": {},
   "outputs": [],
   "source": [
    "# define location and term\n",
    "LOCATION = 'Seattle, WA'\n",
    "TERM = 'Korean'"
   ]
  },
  {
   "cell_type": "code",
   "execution_count": 6,
   "id": "3f28ba0b",
   "metadata": {},
   "outputs": [
    {
     "data": {
      "text/plain": [
       "'Data/results_in_progress_Seattle_Korean.json'"
      ]
     },
     "execution_count": 6,
     "metadata": {},
     "output_type": "execute_result"
    }
   ],
   "source": [
    "# specify folder to save data in\n",
    "FOLDER = 'Data/'\n",
    "\n",
    "# make folder (if already exists, okay)\n",
    "os.makedirs(FOLDER, exist_ok = True)\n",
    "\n",
    "# specify JSON_FILE to save results to\n",
    "JSON_FILE = FOLDER+f\"results_in_progress_{LOCATION.split(',')[0]}_{TERM}.json\"\n",
    "JSON_FILE"
   ]
  },
  {
   "cell_type": "code",
   "execution_count": 7,
   "id": "68ec2735",
   "metadata": {},
   "outputs": [],
   "source": [
    "# define function to create and save an empty JSON file\n",
    "# use parameter delete_if_exists = True if want to start over\n",
    "# (if there is a previous file)\n",
    "def create_json_file(JSON_FILE, delete_if_exists = False):\n",
    "    \n",
    "    # check if JSON_FILE exists\n",
    "    file_exists = os.path.isfile(JSON_FILE)\n",
    "    \n",
    "    # if it DOES exist:\n",
    "    if file_exists == True:\n",
    "        \n",
    "        # check if user wants to delete if exists\n",
    "        if delete_if_exists == True:\n",
    "            \n",
    "            print(f\"[!] {JSON_FILE} already exists. Deleting previous file.\")\n",
    "            \n",
    "            # delete previous file and confirm it no longer exists\n",
    "            os.remove(JSON_FILE)\n",
    "            \n",
    "            # recursive call to function after old file is deleted\n",
    "            create_json_file(JSON_FILE, delete_if_exists = False)\n",
    "    \n",
    "    # if it does NOT exist:\n",
    "    else:\n",
    "        \n",
    "        # inform user and save empty list\n",
    "        print(f\"[!] {JSON_FILE} not found. Saving empty list to new file.\")\n",
    "        \n",
    "        # create any needed folders specified in the JSON_FILE path\n",
    "        # get the folder name\n",
    "        folder = os.path.dirname(JSON_FILE)\n",
    "        \n",
    "        # if JSON_FILE path included a folder:\n",
    "        if len(folder) > 0:\n",
    "            \n",
    "            # create the folder\n",
    "            os.makedirs(folder, exist_ok = True)\n",
    "            \n",
    "            # save empty list to start the json file\n",
    "            with open(JSON_FILE, 'w') as f:\n",
    "                json.dump([], f)"
   ]
  },
  {
   "cell_type": "code",
   "execution_count": 8,
   "id": "a3ef209b",
   "metadata": {},
   "outputs": [
    {
     "name": "stdout",
     "output_type": "stream",
     "text": [
      "[!] Data/results_in_progress_Seattle_Korean.json already exists. Deleting previous file.\n",
      "[!] Data/results_in_progress_Seattle_Korean.json not found. Saving empty list to new file.\n"
     ]
    }
   ],
   "source": [
    "# create new empty json file (delete if already exists)\n",
    "create_json_file(JSON_FILE, delete_if_exists = True)"
   ]
  },
  {
   "cell_type": "code",
   "execution_count": 9,
   "id": "740c6bdb",
   "metadata": {},
   "outputs": [
    {
     "data": {
      "text/plain": [
       "[]"
      ]
     },
     "execution_count": 9,
     "metadata": {},
     "output_type": "execute_result"
    }
   ],
   "source": [
    "# load previous results and use length of results for offset\n",
    "with open(JSON_FILE, 'r') as f:\n",
    "    previous_results = json.load(f)\n",
    "    \n",
    "previous_results"
   ]
  },
  {
   "cell_type": "code",
   "execution_count": 10,
   "id": "69631278",
   "metadata": {},
   "outputs": [
    {
     "name": "stdout",
     "output_type": "stream",
     "text": [
      "0 previous results found.\n"
     ]
    }
   ],
   "source": [
    "# set offset based on previous results\n",
    "n_results = len(previous_results)\n",
    "\n",
    "print(f\"{n_results} previous results found.\")"
   ]
  },
  {
   "cell_type": "code",
   "execution_count": 11,
   "id": "4dd1fb44",
   "metadata": {},
   "outputs": [
    {
     "data": {
      "text/plain": [
       "733"
      ]
     },
     "execution_count": 11,
     "metadata": {},
     "output_type": "execute_result"
    }
   ],
   "source": [
    "# use search_query to perform api call\n",
    "results = yelp_api.search_query(location = LOCATION,\n",
    "                               term = TERM,\n",
    "                               offset = n_results)\n",
    "\n",
    "# how many results total?\n",
    "total_results = results['total']\n",
    "total_results"
   ]
  },
  {
   "cell_type": "code",
   "execution_count": 12,
   "id": "5323daad",
   "metadata": {},
   "outputs": [
    {
     "data": {
      "text/plain": [
       "20"
      ]
     },
     "execution_count": 12,
     "metadata": {},
     "output_type": "execute_result"
    }
   ],
   "source": [
    "# how many results did we get in api call?\n",
    "results_per_page = len(results['businesses'])\n",
    "results_per_page"
   ]
  },
  {
   "cell_type": "code",
   "execution_count": 13,
   "id": "66fd8a62",
   "metadata": {},
   "outputs": [
    {
     "data": {
      "text/plain": [
       "37"
      ]
     },
     "execution_count": 13,
     "metadata": {},
     "output_type": "execute_result"
    }
   ],
   "source": [
    "# calculate number of calls needed for total results\n",
    "n_pages = math.ceil((results['total'] - n_results) / results_per_page)\n",
    "n_pages"
   ]
  },
  {
   "cell_type": "code",
   "execution_count": 14,
   "id": "db2ba8fa",
   "metadata": {},
   "outputs": [
    {
     "data": {
      "application/vnd.jupyter.widget-view+json": {
       "model_id": "2562e3f623f94961b88bdcbdb41c178a",
       "version_major": 2,
       "version_minor": 0
      },
      "text/plain": [
       "  0%|          | 0/37 [00:00<?, ?it/s]"
      ]
     },
     "metadata": {},
     "output_type": "display_data"
    }
   ],
   "source": [
    "# loop to get all results by calling api multiple times\n",
    "for i in tqdm_notebook(range(1, n_pages + 1)):\n",
    "    \n",
    "    # read in results in progress and check length\n",
    "    with open(JSON_FILE, 'r') as f:\n",
    "        previous_results = json.load(f)\n",
    "        \n",
    "    # save number of results to use as offset\n",
    "    n_results = len(previous_results)\n",
    "    \n",
    "    # stop loop if called over 1000 times\n",
    "    if (n_results + results_per_page) > 1000:\n",
    "        print(\"Exceeded 1000 API calls. Stopping loop.\")\n",
    "        break\n",
    "        \n",
    "    # call api, use n_results as the offset\n",
    "    results = yelp_api.search_query(location = LOCATION,\n",
    "                                   term = TERM,\n",
    "                                   offset = n_results)\n",
    "    \n",
    "    # append new results to previous results and save\n",
    "    previous_results.extend(results['businesses'])\n",
    "    \n",
    "    # display previous results\n",
    "    with open(JSON_FILE, 'w') as f:\n",
    "        json.dump(previous_results, f)\n",
    "        \n",
    "    # pause\n",
    "    time.sleep(0.2)"
   ]
  },
  {
   "cell_type": "code",
   "execution_count": 15,
   "id": "18496eae",
   "metadata": {},
   "outputs": [
    {
     "data": {
      "text/html": [
       "<div>\n",
       "<style scoped>\n",
       "    .dataframe tbody tr th:only-of-type {\n",
       "        vertical-align: middle;\n",
       "    }\n",
       "\n",
       "    .dataframe tbody tr th {\n",
       "        vertical-align: top;\n",
       "    }\n",
       "\n",
       "    .dataframe thead th {\n",
       "        text-align: right;\n",
       "    }\n",
       "</style>\n",
       "<table border=\"1\" class=\"dataframe\">\n",
       "  <thead>\n",
       "    <tr style=\"text-align: right;\">\n",
       "      <th></th>\n",
       "      <th>id</th>\n",
       "      <th>alias</th>\n",
       "      <th>name</th>\n",
       "      <th>image_url</th>\n",
       "      <th>is_closed</th>\n",
       "      <th>url</th>\n",
       "      <th>review_count</th>\n",
       "      <th>categories</th>\n",
       "      <th>rating</th>\n",
       "      <th>coordinates</th>\n",
       "      <th>transactions</th>\n",
       "      <th>price</th>\n",
       "      <th>location</th>\n",
       "      <th>phone</th>\n",
       "      <th>display_phone</th>\n",
       "      <th>distance</th>\n",
       "    </tr>\n",
       "  </thead>\n",
       "  <tbody>\n",
       "    <tr>\n",
       "      <th>0</th>\n",
       "      <td>45iVzFsXpjUuiBw0Dhc_Qg</td>\n",
       "      <td>seoul-tofu-and-jjim-seattle</td>\n",
       "      <td>Seoul Tofu &amp; Jjim</td>\n",
       "      <td>https://s3-media4.fl.yelpcdn.com/bphoto/2GgYXM...</td>\n",
       "      <td>False</td>\n",
       "      <td>https://www.yelp.com/biz/seoul-tofu-and-jjim-s...</td>\n",
       "      <td>132</td>\n",
       "      <td>[{'alias': 'korean', 'title': 'Korean'}]</td>\n",
       "      <td>5.0</td>\n",
       "      <td>{'latitude': 47.62224, 'longitude': -122.32064}</td>\n",
       "      <td>[delivery, pickup]</td>\n",
       "      <td>$$</td>\n",
       "      <td>{'address1': '406 Broadway E', 'address2': Non...</td>\n",
       "      <td>+12062575642</td>\n",
       "      <td>(206) 257-5642</td>\n",
       "      <td>1130.239024</td>\n",
       "    </tr>\n",
       "    <tr>\n",
       "      <th>1</th>\n",
       "      <td>h1Q0Wkx5TUUZeVjJrXTwmQ</td>\n",
       "      <td>chan-seattle-seattle-2</td>\n",
       "      <td>Chan Seattle</td>\n",
       "      <td>https://s3-media2.fl.yelpcdn.com/bphoto/C5Iry3...</td>\n",
       "      <td>False</td>\n",
       "      <td>https://www.yelp.com/biz/chan-seattle-seattle-...</td>\n",
       "      <td>982</td>\n",
       "      <td>[{'alias': 'asianfusion', 'title': 'Asian Fusi...</td>\n",
       "      <td>4.5</td>\n",
       "      <td>{'latitude': 47.61312322818342, 'longitude': -...</td>\n",
       "      <td>[delivery]</td>\n",
       "      <td>$$</td>\n",
       "      <td>{'address1': '724 Pine St', 'address2': '', 'a...</td>\n",
       "      <td>+14256582626</td>\n",
       "      <td>(425) 658-2626</td>\n",
       "      <td>287.367244</td>\n",
       "    </tr>\n",
       "    <tr>\n",
       "      <th>2</th>\n",
       "      <td>ZHMHUTDxXhufLU-iFSNntg</td>\n",
       "      <td>hanok-seattle-2</td>\n",
       "      <td>Hanok</td>\n",
       "      <td>https://s3-media1.fl.yelpcdn.com/bphoto/j8YCeJ...</td>\n",
       "      <td>False</td>\n",
       "      <td>https://www.yelp.com/biz/hanok-seattle-2?adjus...</td>\n",
       "      <td>140</td>\n",
       "      <td>[{'alias': 'korean', 'title': 'Korean'}, {'ali...</td>\n",
       "      <td>4.5</td>\n",
       "      <td>{'latitude': 47.63383, 'longitude': -122.28028}</td>\n",
       "      <td>[delivery]</td>\n",
       "      <td>$$</td>\n",
       "      <td>{'address1': '4021 E Madison St', 'address2': ...</td>\n",
       "      <td>+12064023847</td>\n",
       "      <td>(206) 402-3847</td>\n",
       "      <td>4311.826008</td>\n",
       "    </tr>\n",
       "    <tr>\n",
       "      <th>3</th>\n",
       "      <td>nUkPOJ5p4E9U7e2DbOzzMw</td>\n",
       "      <td>meet-korean-bbq-seattle</td>\n",
       "      <td>Meet Korean BBQ</td>\n",
       "      <td>https://s3-media3.fl.yelpcdn.com/bphoto/UwvDMA...</td>\n",
       "      <td>False</td>\n",
       "      <td>https://www.yelp.com/biz/meet-korean-bbq-seatt...</td>\n",
       "      <td>313</td>\n",
       "      <td>[{'alias': 'bbq', 'title': 'Barbeque'}, {'alia...</td>\n",
       "      <td>4.5</td>\n",
       "      <td>{'latitude': 47.614352, 'longitude': -122.325214}</td>\n",
       "      <td>[delivery, pickup]</td>\n",
       "      <td>$$$$</td>\n",
       "      <td>{'address1': '500 E Pike St', 'address2': None...</td>\n",
       "      <td>+12066952621</td>\n",
       "      <td>(206) 695-2621</td>\n",
       "      <td>361.544031</td>\n",
       "    </tr>\n",
       "    <tr>\n",
       "      <th>4</th>\n",
       "      <td>zIczxp6kS-2kyV937xBnAA</td>\n",
       "      <td>stone-korean-restaurant-seattle-2</td>\n",
       "      <td>Stone Korean Restaurant</td>\n",
       "      <td>https://s3-media2.fl.yelpcdn.com/bphoto/pZbb_4...</td>\n",
       "      <td>False</td>\n",
       "      <td>https://www.yelp.com/biz/stone-korean-restaura...</td>\n",
       "      <td>246</td>\n",
       "      <td>[{'alias': 'korean', 'title': 'Korean'}, {'ali...</td>\n",
       "      <td>4.0</td>\n",
       "      <td>{'latitude': 47.62729, 'longitude': -122.34209}</td>\n",
       "      <td>[delivery, pickup]</td>\n",
       "      <td>$$</td>\n",
       "      <td>{'address1': '900 Dexter Ave N', 'address2': '...</td>\n",
       "      <td>+12067172864</td>\n",
       "      <td>(206) 717-2864</td>\n",
       "      <td>1701.715591</td>\n",
       "    </tr>\n",
       "  </tbody>\n",
       "</table>\n",
       "</div>"
      ],
      "text/plain": [
       "                       id                              alias  \\\n",
       "0  45iVzFsXpjUuiBw0Dhc_Qg        seoul-tofu-and-jjim-seattle   \n",
       "1  h1Q0Wkx5TUUZeVjJrXTwmQ             chan-seattle-seattle-2   \n",
       "2  ZHMHUTDxXhufLU-iFSNntg                    hanok-seattle-2   \n",
       "3  nUkPOJ5p4E9U7e2DbOzzMw            meet-korean-bbq-seattle   \n",
       "4  zIczxp6kS-2kyV937xBnAA  stone-korean-restaurant-seattle-2   \n",
       "\n",
       "                      name                                          image_url  \\\n",
       "0        Seoul Tofu & Jjim  https://s3-media4.fl.yelpcdn.com/bphoto/2GgYXM...   \n",
       "1             Chan Seattle  https://s3-media2.fl.yelpcdn.com/bphoto/C5Iry3...   \n",
       "2                    Hanok  https://s3-media1.fl.yelpcdn.com/bphoto/j8YCeJ...   \n",
       "3          Meet Korean BBQ  https://s3-media3.fl.yelpcdn.com/bphoto/UwvDMA...   \n",
       "4  Stone Korean Restaurant  https://s3-media2.fl.yelpcdn.com/bphoto/pZbb_4...   \n",
       "\n",
       "   is_closed                                                url  review_count  \\\n",
       "0      False  https://www.yelp.com/biz/seoul-tofu-and-jjim-s...           132   \n",
       "1      False  https://www.yelp.com/biz/chan-seattle-seattle-...           982   \n",
       "2      False  https://www.yelp.com/biz/hanok-seattle-2?adjus...           140   \n",
       "3      False  https://www.yelp.com/biz/meet-korean-bbq-seatt...           313   \n",
       "4      False  https://www.yelp.com/biz/stone-korean-restaura...           246   \n",
       "\n",
       "                                          categories  rating  \\\n",
       "0           [{'alias': 'korean', 'title': 'Korean'}]     5.0   \n",
       "1  [{'alias': 'asianfusion', 'title': 'Asian Fusi...     4.5   \n",
       "2  [{'alias': 'korean', 'title': 'Korean'}, {'ali...     4.5   \n",
       "3  [{'alias': 'bbq', 'title': 'Barbeque'}, {'alia...     4.5   \n",
       "4  [{'alias': 'korean', 'title': 'Korean'}, {'ali...     4.0   \n",
       "\n",
       "                                         coordinates        transactions  \\\n",
       "0    {'latitude': 47.62224, 'longitude': -122.32064}  [delivery, pickup]   \n",
       "1  {'latitude': 47.61312322818342, 'longitude': -...          [delivery]   \n",
       "2    {'latitude': 47.63383, 'longitude': -122.28028}          [delivery]   \n",
       "3  {'latitude': 47.614352, 'longitude': -122.325214}  [delivery, pickup]   \n",
       "4    {'latitude': 47.62729, 'longitude': -122.34209}  [delivery, pickup]   \n",
       "\n",
       "  price                                           location         phone  \\\n",
       "0    $$  {'address1': '406 Broadway E', 'address2': Non...  +12062575642   \n",
       "1    $$  {'address1': '724 Pine St', 'address2': '', 'a...  +14256582626   \n",
       "2    $$  {'address1': '4021 E Madison St', 'address2': ...  +12064023847   \n",
       "3  $$$$  {'address1': '500 E Pike St', 'address2': None...  +12066952621   \n",
       "4    $$  {'address1': '900 Dexter Ave N', 'address2': '...  +12067172864   \n",
       "\n",
       "    display_phone     distance  \n",
       "0  (206) 257-5642  1130.239024  \n",
       "1  (425) 658-2626   287.367244  \n",
       "2  (206) 402-3847  4311.826008  \n",
       "3  (206) 695-2621   361.544031  \n",
       "4  (206) 717-2864  1701.715591  "
      ]
     },
     "metadata": {},
     "output_type": "display_data"
    },
    {
     "data": {
      "text/html": [
       "<div>\n",
       "<style scoped>\n",
       "    .dataframe tbody tr th:only-of-type {\n",
       "        vertical-align: middle;\n",
       "    }\n",
       "\n",
       "    .dataframe tbody tr th {\n",
       "        vertical-align: top;\n",
       "    }\n",
       "\n",
       "    .dataframe thead th {\n",
       "        text-align: right;\n",
       "    }\n",
       "</style>\n",
       "<table border=\"1\" class=\"dataframe\">\n",
       "  <thead>\n",
       "    <tr style=\"text-align: right;\">\n",
       "      <th></th>\n",
       "      <th>id</th>\n",
       "      <th>alias</th>\n",
       "      <th>name</th>\n",
       "      <th>image_url</th>\n",
       "      <th>is_closed</th>\n",
       "      <th>url</th>\n",
       "      <th>review_count</th>\n",
       "      <th>categories</th>\n",
       "      <th>rating</th>\n",
       "      <th>coordinates</th>\n",
       "      <th>transactions</th>\n",
       "      <th>price</th>\n",
       "      <th>location</th>\n",
       "      <th>phone</th>\n",
       "      <th>display_phone</th>\n",
       "      <th>distance</th>\n",
       "    </tr>\n",
       "  </thead>\n",
       "  <tbody>\n",
       "    <tr>\n",
       "      <th>728</th>\n",
       "      <td>F_MPDHiCK-NeQe0sWEbkuA</td>\n",
       "      <td>toshis-teriyaki-lynnwood</td>\n",
       "      <td>Toshi's Teriyaki</td>\n",
       "      <td>https://s3-media3.fl.yelpcdn.com/bphoto/Ixrsqf...</td>\n",
       "      <td>False</td>\n",
       "      <td>https://www.yelp.com/biz/toshis-teriyaki-lynnw...</td>\n",
       "      <td>47</td>\n",
       "      <td>[{'alias': 'japanese', 'title': 'Japanese'}]</td>\n",
       "      <td>4.0</td>\n",
       "      <td>{'latitude': 47.80957, 'longitude': -122.32429}</td>\n",
       "      <td>[delivery]</td>\n",
       "      <td>$</td>\n",
       "      <td>{'address1': '20829 Hwy 99', 'address2': '', '...</td>\n",
       "      <td>+14257715320</td>\n",
       "      <td>(425) 771-5320</td>\n",
       "      <td>21717.313762</td>\n",
       "    </tr>\n",
       "    <tr>\n",
       "      <th>729</th>\n",
       "      <td>hub2g_k6kSzxm6z7WORLRA</td>\n",
       "      <td>teriyaki-town-lynnwood</td>\n",
       "      <td>Teriyaki Town</td>\n",
       "      <td>https://s3-media1.fl.yelpcdn.com/bphoto/DF9Jp5...</td>\n",
       "      <td>False</td>\n",
       "      <td>https://www.yelp.com/biz/teriyaki-town-lynnwoo...</td>\n",
       "      <td>156</td>\n",
       "      <td>[{'alias': 'japanese', 'title': 'Japanese'}]</td>\n",
       "      <td>3.5</td>\n",
       "      <td>{'latitude': 47.821778, 'longitude': -122.296413}</td>\n",
       "      <td>[delivery]</td>\n",
       "      <td>$$</td>\n",
       "      <td>{'address1': '4615 196th St', 'address2': 'Ste...</td>\n",
       "      <td>+14256735904</td>\n",
       "      <td>(425) 673-5904</td>\n",
       "      <td>23205.805037</td>\n",
       "    </tr>\n",
       "    <tr>\n",
       "      <th>730</th>\n",
       "      <td>0miEAgm2MbD0biNNzyq7XA</td>\n",
       "      <td>teriyaki-wok-express-lynnwood</td>\n",
       "      <td>Teriyaki Wok Express</td>\n",
       "      <td>https://s3-media2.fl.yelpcdn.com/bphoto/2QTeZQ...</td>\n",
       "      <td>False</td>\n",
       "      <td>https://www.yelp.com/biz/teriyaki-wok-express-...</td>\n",
       "      <td>115</td>\n",
       "      <td>[{'alias': 'japanese', 'title': 'Japanese'}]</td>\n",
       "      <td>4.0</td>\n",
       "      <td>{'latitude': 47.8305082, 'longitude': -122.277...</td>\n",
       "      <td>[pickup, delivery]</td>\n",
       "      <td>$</td>\n",
       "      <td>{'address1': '18500 33rd Ave W', 'address2': '...</td>\n",
       "      <td>+14257756760</td>\n",
       "      <td>(425) 775-6760</td>\n",
       "      <td>24348.283442</td>\n",
       "    </tr>\n",
       "    <tr>\n",
       "      <th>731</th>\n",
       "      <td>KqFc899W0u0PBZp0iopEaA</td>\n",
       "      <td>big-teriyaki-lynnwood</td>\n",
       "      <td>Big Teriyaki</td>\n",
       "      <td>https://s3-media3.fl.yelpcdn.com/bphoto/2AoRr4...</td>\n",
       "      <td>False</td>\n",
       "      <td>https://www.yelp.com/biz/big-teriyaki-lynnwood...</td>\n",
       "      <td>55</td>\n",
       "      <td>[{'alias': 'japanese', 'title': 'Japanese'}, {...</td>\n",
       "      <td>3.5</td>\n",
       "      <td>{'latitude': 47.8645401682447, 'longitude': -1...</td>\n",
       "      <td>[delivery]</td>\n",
       "      <td>$</td>\n",
       "      <td>{'address1': '3625 148th St SW', 'address2': '...</td>\n",
       "      <td>+14256780072</td>\n",
       "      <td>(425) 678-0072</td>\n",
       "      <td>28049.458470</td>\n",
       "    </tr>\n",
       "    <tr>\n",
       "      <th>732</th>\n",
       "      <td>AQSRgIPv7B2szCeQF2LxLw</td>\n",
       "      <td>apple-teriyaki-federal-way</td>\n",
       "      <td>Apple Teriyaki</td>\n",
       "      <td>https://s3-media4.fl.yelpcdn.com/bphoto/NvvfbE...</td>\n",
       "      <td>False</td>\n",
       "      <td>https://www.yelp.com/biz/apple-teriyaki-federa...</td>\n",
       "      <td>36</td>\n",
       "      <td>[{'alias': 'japanese', 'title': 'Japanese'}]</td>\n",
       "      <td>3.0</td>\n",
       "      <td>{'latitude': 47.3563199, 'longitude': -122.30925}</td>\n",
       "      <td>[delivery]</td>\n",
       "      <td>$</td>\n",
       "      <td>{'address1': '27400 Pacific Hwy S', 'address2'...</td>\n",
       "      <td>+12538390110</td>\n",
       "      <td>(253) 839-0110</td>\n",
       "      <td>28725.671264</td>\n",
       "    </tr>\n",
       "  </tbody>\n",
       "</table>\n",
       "</div>"
      ],
      "text/plain": [
       "                         id                          alias  \\\n",
       "728  F_MPDHiCK-NeQe0sWEbkuA       toshis-teriyaki-lynnwood   \n",
       "729  hub2g_k6kSzxm6z7WORLRA         teriyaki-town-lynnwood   \n",
       "730  0miEAgm2MbD0biNNzyq7XA  teriyaki-wok-express-lynnwood   \n",
       "731  KqFc899W0u0PBZp0iopEaA          big-teriyaki-lynnwood   \n",
       "732  AQSRgIPv7B2szCeQF2LxLw     apple-teriyaki-federal-way   \n",
       "\n",
       "                     name                                          image_url  \\\n",
       "728      Toshi's Teriyaki  https://s3-media3.fl.yelpcdn.com/bphoto/Ixrsqf...   \n",
       "729         Teriyaki Town  https://s3-media1.fl.yelpcdn.com/bphoto/DF9Jp5...   \n",
       "730  Teriyaki Wok Express  https://s3-media2.fl.yelpcdn.com/bphoto/2QTeZQ...   \n",
       "731          Big Teriyaki  https://s3-media3.fl.yelpcdn.com/bphoto/2AoRr4...   \n",
       "732        Apple Teriyaki  https://s3-media4.fl.yelpcdn.com/bphoto/NvvfbE...   \n",
       "\n",
       "     is_closed                                                url  \\\n",
       "728      False  https://www.yelp.com/biz/toshis-teriyaki-lynnw...   \n",
       "729      False  https://www.yelp.com/biz/teriyaki-town-lynnwoo...   \n",
       "730      False  https://www.yelp.com/biz/teriyaki-wok-express-...   \n",
       "731      False  https://www.yelp.com/biz/big-teriyaki-lynnwood...   \n",
       "732      False  https://www.yelp.com/biz/apple-teriyaki-federa...   \n",
       "\n",
       "     review_count                                         categories  rating  \\\n",
       "728            47       [{'alias': 'japanese', 'title': 'Japanese'}]     4.0   \n",
       "729           156       [{'alias': 'japanese', 'title': 'Japanese'}]     3.5   \n",
       "730           115       [{'alias': 'japanese', 'title': 'Japanese'}]     4.0   \n",
       "731            55  [{'alias': 'japanese', 'title': 'Japanese'}, {...     3.5   \n",
       "732            36       [{'alias': 'japanese', 'title': 'Japanese'}]     3.0   \n",
       "\n",
       "                                           coordinates        transactions  \\\n",
       "728    {'latitude': 47.80957, 'longitude': -122.32429}          [delivery]   \n",
       "729  {'latitude': 47.821778, 'longitude': -122.296413}          [delivery]   \n",
       "730  {'latitude': 47.8305082, 'longitude': -122.277...  [pickup, delivery]   \n",
       "731  {'latitude': 47.8645401682447, 'longitude': -1...          [delivery]   \n",
       "732  {'latitude': 47.3563199, 'longitude': -122.30925}          [delivery]   \n",
       "\n",
       "    price                                           location         phone  \\\n",
       "728     $  {'address1': '20829 Hwy 99', 'address2': '', '...  +14257715320   \n",
       "729    $$  {'address1': '4615 196th St', 'address2': 'Ste...  +14256735904   \n",
       "730     $  {'address1': '18500 33rd Ave W', 'address2': '...  +14257756760   \n",
       "731     $  {'address1': '3625 148th St SW', 'address2': '...  +14256780072   \n",
       "732     $  {'address1': '27400 Pacific Hwy S', 'address2'...  +12538390110   \n",
       "\n",
       "      display_phone      distance  \n",
       "728  (425) 771-5320  21717.313762  \n",
       "729  (425) 673-5904  23205.805037  \n",
       "730  (425) 775-6760  24348.283442  \n",
       "731  (425) 678-0072  28049.458470  \n",
       "732  (253) 839-0110  28725.671264  "
      ]
     },
     "metadata": {},
     "output_type": "display_data"
    }
   ],
   "source": [
    "# convert results in progress json file to df\n",
    "final_df = pd.read_json(JSON_FILE)\n",
    "display(final_df.head(), final_df.tail())"
   ]
  },
  {
   "cell_type": "code",
   "execution_count": 16,
   "id": "0b18a518",
   "metadata": {},
   "outputs": [
    {
     "data": {
      "text/plain": [
       "0"
      ]
     },
     "execution_count": 16,
     "metadata": {},
     "output_type": "execute_result"
    }
   ],
   "source": [
    "# check for duplicates of ids\n",
    "final_df.duplicated(subset = 'id').sum()"
   ]
  },
  {
   "cell_type": "code",
   "execution_count": 17,
   "id": "e08bb12d",
   "metadata": {},
   "outputs": [
    {
     "data": {
      "text/plain": [
       "0"
      ]
     },
     "execution_count": 17,
     "metadata": {},
     "output_type": "execute_result"
    }
   ],
   "source": [
    "# drop duplicates\n",
    "final_df = final_df.drop_duplicates(subset = 'id')\n",
    "\n",
    "# check\n",
    "final_df.duplicated(subset = 'id').sum()"
   ]
  },
  {
   "cell_type": "code",
   "execution_count": 18,
   "id": "68027cf8",
   "metadata": {},
   "outputs": [],
   "source": [
    "# save final results to csv\n",
    "final_df.to_csv('Data/final_results_Seattle_Korean.csv',\n",
    "               index = False)\n",
    "\n",
    "# alternate option to zip if needed:\n",
    "# final_df.to_csv('Data/final_results_Seattle_Korean.csv.gz',\n",
    "#                 compression = 'gzip',\n",
    "#                 index = False)"
   ]
  },
  {
   "cell_type": "code",
   "execution_count": null,
   "id": "c5acd6f1",
   "metadata": {},
   "outputs": [],
   "source": []
  }
 ],
 "metadata": {
  "kernelspec": {
   "display_name": "Python 3 (ipykernel)",
   "language": "python",
   "name": "python3"
  },
  "language_info": {
   "codemirror_mode": {
    "name": "ipython",
    "version": 3
   },
   "file_extension": ".py",
   "mimetype": "text/x-python",
   "name": "python",
   "nbconvert_exporter": "python",
   "pygments_lexer": "ipython3",
   "version": "3.9.15"
  },
  "toc": {
   "base_numbering": 1,
   "nav_menu": {},
   "number_sections": false,
   "sideBar": true,
   "skip_h1_title": false,
   "title_cell": "Table of Contents",
   "title_sidebar": "Contents",
   "toc_cell": false,
   "toc_position": {},
   "toc_section_display": true,
   "toc_window_display": false
  }
 },
 "nbformat": 4,
 "nbformat_minor": 5
}
