{
 "cells": [
  {
   "cell_type": "markdown",
   "id": "4670e9ed",
   "metadata": {},
   "source": [
    "# Efficient Yelp API Calls (Core)"
   ]
  },
  {
   "cell_type": "markdown",
   "id": "c9f2d982",
   "metadata": {},
   "source": [
    "**Goal:** \n",
    "\n",
    "Use the Yelp API to search your favorite city for a cuisine type of your choice.\n",
    "\n",
    "Extract all of the results from your search and compile them into one dataframe using a for loop."
   ]
  },
  {
   "cell_type": "code",
   "execution_count": 1,
   "id": "de6587a8",
   "metadata": {},
   "outputs": [],
   "source": [
    "# imports\n",
    "\n",
    "import os, json, math, time\n",
    "from yelpapi import YelpAPI\n",
    "from tqdm.notebook import tqdm_notebook\n",
    "import pandas as pd\n",
    "import numpy as np\n",
    "import matplotlib.pyplot as plt\n",
    "import seaborn as sns"
   ]
  },
  {
   "cell_type": "code",
   "execution_count": 2,
   "id": "9bb4b73a",
   "metadata": {},
   "outputs": [
    {
     "data": {
      "text/plain": [
       "dict_keys(['client-id', 'api-key'])"
      ]
     },
     "execution_count": 2,
     "metadata": {},
     "output_type": "execute_result"
    }
   ],
   "source": [
    "# import json to read yelp api credentials\n",
    "import json\n",
    "\n",
    "# with open: yelp api credentials (save as variable)\n",
    "with open('/Users/yang0108/.secret/yelp_api.json') as f:\n",
    "    login = json.load(f)\n",
    "\n",
    "login.keys()"
   ]
  },
  {
   "cell_type": "code",
   "execution_count": 3,
   "id": "7d42bba6",
   "metadata": {},
   "outputs": [
    {
     "data": {
      "text/plain": [
       "<yelpapi.yelpapi.YelpAPI at 0x222110ae100>"
      ]
     },
     "execution_count": 3,
     "metadata": {},
     "output_type": "execute_result"
    }
   ],
   "source": [
    "# import yelpapi class\n",
    "from yelpapi import YelpAPI\n",
    "\n",
    "# create instance with api key\n",
    "yelp_api = YelpAPI(login['api-key'], timeout_s = 5.0)\n",
    "yelp_api"
   ]
  },
  {
   "cell_type": "code",
   "execution_count": 5,
   "id": "a2230196",
   "metadata": {},
   "outputs": [],
   "source": [
    "# define location and term\n",
    "LOCATION = 'Seattle, WA'\n",
    "TERM = 'Korean'"
   ]
  },
  {
   "cell_type": "code",
   "execution_count": 4,
   "id": "1b1d20e0",
   "metadata": {},
   "outputs": [
    {
     "data": {
      "text/plain": [
       "'Data/results_in_progress_Seattle_Korean.json'"
      ]
     },
     "execution_count": 4,
     "metadata": {},
     "output_type": "execute_result"
    }
   ],
   "source": [
    "# specify JSON_FILE to save results to\n",
    "JSON_FILE = 'Data/results_in_progress_Seattle_Korean.json'\n",
    "JSON_FILE"
   ]
  },
  {
   "cell_type": "code",
   "execution_count": null,
   "id": "3ee4928e",
   "metadata": {},
   "outputs": [],
   "source": [
    "# define function to create and save an empty JSON file\n",
    "def create_json_file(JSON_FILE, delete_if_exists = False):\n",
    "    \n",
    "    # check if JSON_FILE exists\n",
    "    file_exists = os.path.isfile(JSON_FILE)\n",
    "    \n",
    "    # if it DOES exist:\n",
    "    if file_exists == True:\n",
    "        \n",
    "        # check if user wants to delete if exists\n",
    "        if delete_if_exists == True:\n",
    "            \n",
    "            print(f\"[!] {JSON_FILE} already exists. Deleting previous file.\")\n",
    "            \n",
    "            # delete previous file and confirm it no longer exists\n",
    "            os.remove(JSON_FILE)\n",
    "            \n",
    "            # recursive call to function after old file is deleted\n",
    "            create_json_file(JSON_FILE, delete_if_exists = False)\n",
    "    \n",
    "    # if it does NOT exist:\n",
    "    else:\n",
    "        \n",
    "        # inform user and save empty list\n",
    "        print(f\"[!] {JSON_FILE} not found. Saving empty list to new file.\")\n",
    "        \n",
    "        # create any needed folders specified in the JSON_FILE path\n",
    "        # get the folder name\n",
    "        folder = os.path.dirname(JSON_FILE)\n",
    "        \n",
    "        # if JSON_FILE path included a folder:\n",
    "        if len(folder) > 0:\n",
    "            \n",
    "            # create the folder\n",
    "            os.makedirs(folder, exist_ok = True)\n",
    "            \n",
    "            # save empty list to start the json file\n",
    "            with open(JSON_FILE, 'w') as f:\n",
    "                json.dump([], f)"
   ]
  },
  {
   "cell_type": "code",
   "execution_count": null,
   "id": "3f347780",
   "metadata": {},
   "outputs": [],
   "source": [
    "# use search_query method to perform api call\n",
    "search_results_0 = yelp_api.search_query(location = LOCATION,\n",
    "                                         term = TERM)\n",
    "\n",
    "# check\n",
    "print(type(search_results_0))\n",
    "search_results_0.keys()"
   ]
  }
 ],
 "metadata": {
  "kernelspec": {
   "display_name": "Python (dojo-env)",
   "language": "python",
   "name": "dojo-env"
  },
  "language_info": {
   "codemirror_mode": {
    "name": "ipython",
    "version": 3
   },
   "file_extension": ".py",
   "mimetype": "text/x-python",
   "name": "python",
   "nbconvert_exporter": "python",
   "pygments_lexer": "ipython3",
   "version": "3.9.15"
  },
  "toc": {
   "base_numbering": 1,
   "nav_menu": {},
   "number_sections": false,
   "sideBar": true,
   "skip_h1_title": false,
   "title_cell": "Table of Contents",
   "title_sidebar": "Contents",
   "toc_cell": false,
   "toc_position": {},
   "toc_section_display": true,
   "toc_window_display": false
  }
 },
 "nbformat": 4,
 "nbformat_minor": 5
}
