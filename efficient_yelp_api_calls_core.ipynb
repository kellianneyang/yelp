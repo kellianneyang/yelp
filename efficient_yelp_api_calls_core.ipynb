{
 "cells": [
  {
   "cell_type": "markdown",
   "id": "17ceafb0",
   "metadata": {},
   "source": [
    "# Efficient Yelp API Calls (Core)"
   ]
  },
  {
   "cell_type": "markdown",
   "id": "19c13081",
   "metadata": {},
   "source": [
    "**Goal:** \n",
    "\n",
    "Use the Yelp API to search your favorite city for a cuisine type of your choice.\n",
    "\n",
    "Extract all of the results from your search and compile them into one dataframe using a for loop."
   ]
  },
  {
   "cell_type": "code",
   "execution_count": 3,
   "id": "bcde2a5c",
   "metadata": {},
   "outputs": [],
   "source": [
    "# imports\n",
    "\n",
    "import os, json, math, time\n",
    "from yelpapi import YelpAPI\n",
    "from tqdm.notebook import tqdm_notebook\n",
    "import pandas as pd\n",
    "import numpy as np\n",
    "import matplotlib.pyplot as plt\n",
    "import seaborn as sns"
   ]
  },
  {
   "cell_type": "code",
   "execution_count": 4,
   "id": "a163752e",
   "metadata": {},
   "outputs": [
    {
     "data": {
      "text/plain": [
       "dict_keys(['client-id', 'api-key'])"
      ]
     },
     "execution_count": 4,
     "metadata": {},
     "output_type": "execute_result"
    }
   ],
   "source": [
    "# import json to read yelp api credentials\n",
    "import json\n",
    "\n",
    "# with open: yelp api credentials (save as variable)\n",
    "with open('/Users/yang0108/.secret/yelp_api.json') as f:\n",
    "    login = json.load(f)\n",
    "\n",
    "login.keys()"
   ]
  },
  {
   "cell_type": "code",
   "execution_count": 5,
   "id": "bbf11287",
   "metadata": {},
   "outputs": [
    {
     "data": {
      "text/plain": [
       "<yelpapi.yelpapi.YelpAPI at 0x188ebebb520>"
      ]
     },
     "execution_count": 5,
     "metadata": {},
     "output_type": "execute_result"
    }
   ],
   "source": [
    "# import yelpapi class\n",
    "from yelpapi import YelpAPI\n",
    "\n",
    "# create instance with api key\n",
    "yelp_api = YelpAPI(login['api-key'], timeout_s = 5.0)\n",
    "yelp_api"
   ]
  },
  {
   "cell_type": "code",
   "execution_count": 6,
   "id": "a55c2500",
   "metadata": {},
   "outputs": [],
   "source": [
    "# define location and term\n",
    "LOCATION = 'Seattle, WA'\n",
    "TERM = 'Korean'"
   ]
  },
  {
   "cell_type": "code",
   "execution_count": 7,
   "id": "3f28ba0b",
   "metadata": {},
   "outputs": [
    {
     "data": {
      "text/plain": [
       "'Data/results_in_progress_Seattle_Korean.json'"
      ]
     },
     "execution_count": 7,
     "metadata": {},
     "output_type": "execute_result"
    }
   ],
   "source": [
    "# specify JSON_FILE to save results to\n",
    "JSON_FILE = 'Data/results_in_progress_Seattle_Korean.json'\n",
    "JSON_FILE"
   ]
  },
  {
   "cell_type": "code",
   "execution_count": 8,
   "id": "68ec2735",
   "metadata": {},
   "outputs": [],
   "source": [
    "# define function to create and save an empty JSON file\n",
    "# use parameter delete_if_exists = True if want to start over\n",
    "# (if there is a previous file)\n",
    "def create_json_file(JSON_FILE, delete_if_exists = False):\n",
    "    \n",
    "    # check if JSON_FILE exists\n",
    "    file_exists = os.path.isfile(JSON_FILE)\n",
    "    \n",
    "    # if it DOES exist:\n",
    "    if file_exists == True:\n",
    "        \n",
    "        # check if user wants to delete if exists\n",
    "        if delete_if_exists == True:\n",
    "            \n",
    "            print(f\"[!] {JSON_FILE} already exists. Deleting previous file.\")\n",
    "            \n",
    "            # delete previous file and confirm it no longer exists\n",
    "            os.remove(JSON_FILE)\n",
    "            \n",
    "            # recursive call to function after old file is deleted\n",
    "            create_json_file(JSON_FILE, delete_if_exists = False)\n",
    "    \n",
    "    # if it does NOT exist:\n",
    "    else:\n",
    "        \n",
    "        # inform user and save empty list\n",
    "        print(f\"[!] {JSON_FILE} not found. Saving empty list to new file.\")\n",
    "        \n",
    "        # create any needed folders specified in the JSON_FILE path\n",
    "        # get the folder name\n",
    "        folder = os.path.dirname(JSON_FILE)\n",
    "        \n",
    "        # if JSON_FILE path included a folder:\n",
    "        if len(folder) > 0:\n",
    "            \n",
    "            # create the folder\n",
    "            os.makedirs(folder, exist_ok = True)\n",
    "            \n",
    "            # save empty list to start the json file\n",
    "            with open(JSON_FILE, 'w') as f:\n",
    "                json.dump([], f)"
   ]
  },
  {
   "cell_type": "code",
   "execution_count": 9,
   "id": "a3ef209b",
   "metadata": {},
   "outputs": [
    {
     "name": "stdout",
     "output_type": "stream",
     "text": [
      "[!] Data/results_in_progress_Seattle_Korean.json not found. Saving empty list to new file.\n"
     ]
    }
   ],
   "source": [
    "# create new empty json file (delete if already exists)\n",
    "create_json_file(JSON_FILE, delete_if_exists = True)"
   ]
  },
  {
   "cell_type": "code",
   "execution_count": 11,
   "id": "740c6bdb",
   "metadata": {},
   "outputs": [
    {
     "data": {
      "text/plain": [
       "[]"
      ]
     },
     "execution_count": 11,
     "metadata": {},
     "output_type": "execute_result"
    }
   ],
   "source": [
    "# load previous results and use length of results for offset\n",
    "with open(JSON_FILE, 'r') as f:\n",
    "    previous_results = json.load(f)\n",
    "    \n",
    "previous_results"
   ]
  },
  {
   "cell_type": "code",
   "execution_count": 12,
   "id": "69631278",
   "metadata": {},
   "outputs": [
    {
     "name": "stdout",
     "output_type": "stream",
     "text": [
      "0 previous results found.\n"
     ]
    }
   ],
   "source": [
    "# set offset based on previous results\n",
    "n_results = len(previous_results)\n",
    "\n",
    "print(f\"{n_results} previous results found.\")"
   ]
  },
  {
   "cell_type": "code",
   "execution_count": 14,
   "id": "4dd1fb44",
   "metadata": {},
   "outputs": [
    {
     "data": {
      "text/plain": [
       "732"
      ]
     },
     "execution_count": 14,
     "metadata": {},
     "output_type": "execute_result"
    }
   ],
   "source": [
    "# use search_query to perform api call\n",
    "results = yelp_api.search_query(location = LOCATION,\n",
    "                               term = TERM,\n",
    "                               offset = n_results)\n",
    "\n",
    "# how many results total?\n",
    "total_results = results['total']\n",
    "total_results"
   ]
  },
  {
   "cell_type": "code",
   "execution_count": 15,
   "id": "5323daad",
   "metadata": {},
   "outputs": [
    {
     "data": {
      "text/plain": [
       "20"
      ]
     },
     "execution_count": 15,
     "metadata": {},
     "output_type": "execute_result"
    }
   ],
   "source": [
    "# how many results did we get in api call?\n",
    "results_per_page = len(results['businesses'])\n",
    "results_per_page"
   ]
  },
  {
   "cell_type": "code",
   "execution_count": 16,
   "id": "66fd8a62",
   "metadata": {},
   "outputs": [
    {
     "data": {
      "text/plain": [
       "37"
      ]
     },
     "execution_count": 16,
     "metadata": {},
     "output_type": "execute_result"
    }
   ],
   "source": [
    "# calculate number of calls needed for total results\n",
    "n_pages = math.ceil((results['total'] - n_results) / results_per_page)\n",
    "n_pages"
   ]
  },
  {
   "cell_type": "code",
   "execution_count": 18,
   "id": "db2ba8fa",
   "metadata": {},
   "outputs": [
    {
     "data": {
      "application/vnd.jupyter.widget-view+json": {
       "model_id": "d5c196a763074849b2227be35654a8ab",
       "version_major": 2,
       "version_minor": 0
      },
      "text/plain": [
       "  0%|          | 0/37 [00:00<?, ?it/s]"
      ]
     },
     "metadata": {},
     "output_type": "display_data"
    }
   ],
   "source": [
    "# loop to get all results by calling api multiple times\n",
    "for i in tqdm_notebook(range(1, n_pages + 1)):\n",
    "    \n",
    "    # read in results in progress and check length\n",
    "    with open(JSON_FILE, 'r') as f:\n",
    "        previous_results = json.load(f)\n",
    "        \n",
    "    # save number of results to use as offset\n",
    "    n_results = len(previous_results)\n",
    "    \n",
    "    # stop loop if called over 1000 times\n",
    "    if (n_results + results_per_page) > 1000:\n",
    "        print(\"Exceeded 1000 API calls. Stopping loop.\")\n",
    "        break\n",
    "        \n",
    "    # call api, use n_results as the offset\n",
    "    results = yelp_api.search_query(location = LOCATION,\n",
    "                                   term = TERM,\n",
    "                                   offset = n_results)\n",
    "    \n",
    "    # append new results to previous results and save\n",
    "    previous_results.extend(results['businesses'])\n",
    "    \n",
    "    # display previous results\n",
    "    with open(JSON_FILE, 'w') as f:\n",
    "        json.dump(previous_results, f)\n",
    "        \n",
    "    # pause\n",
    "    time.sleep(0.2)"
   ]
  },
  {
   "cell_type": "code",
   "execution_count": 19,
   "id": "18496eae",
   "metadata": {},
   "outputs": [
    {
     "data": {
      "text/html": [
       "<div>\n",
       "<style scoped>\n",
       "    .dataframe tbody tr th:only-of-type {\n",
       "        vertical-align: middle;\n",
       "    }\n",
       "\n",
       "    .dataframe tbody tr th {\n",
       "        vertical-align: top;\n",
       "    }\n",
       "\n",
       "    .dataframe thead th {\n",
       "        text-align: right;\n",
       "    }\n",
       "</style>\n",
       "<table border=\"1\" class=\"dataframe\">\n",
       "  <thead>\n",
       "    <tr style=\"text-align: right;\">\n",
       "      <th></th>\n",
       "      <th>id</th>\n",
       "      <th>alias</th>\n",
       "      <th>name</th>\n",
       "      <th>image_url</th>\n",
       "      <th>is_closed</th>\n",
       "      <th>url</th>\n",
       "      <th>review_count</th>\n",
       "      <th>categories</th>\n",
       "      <th>rating</th>\n",
       "      <th>coordinates</th>\n",
       "      <th>transactions</th>\n",
       "      <th>price</th>\n",
       "      <th>location</th>\n",
       "      <th>phone</th>\n",
       "      <th>display_phone</th>\n",
       "      <th>distance</th>\n",
       "    </tr>\n",
       "  </thead>\n",
       "  <tbody>\n",
       "    <tr>\n",
       "      <th>0</th>\n",
       "      <td>45iVzFsXpjUuiBw0Dhc_Qg</td>\n",
       "      <td>seoul-tofu-and-jjim-seattle</td>\n",
       "      <td>Seoul Tofu &amp; Jjim</td>\n",
       "      <td>https://s3-media4.fl.yelpcdn.com/bphoto/2GgYXM...</td>\n",
       "      <td>False</td>\n",
       "      <td>https://www.yelp.com/biz/seoul-tofu-and-jjim-s...</td>\n",
       "      <td>132</td>\n",
       "      <td>[{'alias': 'korean', 'title': 'Korean'}]</td>\n",
       "      <td>5.0</td>\n",
       "      <td>{'latitude': 47.62224, 'longitude': -122.32064}</td>\n",
       "      <td>[pickup, delivery]</td>\n",
       "      <td>$$</td>\n",
       "      <td>{'address1': '406 Broadway E', 'address2': Non...</td>\n",
       "      <td>+12062575642</td>\n",
       "      <td>(206) 257-5642</td>\n",
       "      <td>1130.239024</td>\n",
       "    </tr>\n",
       "    <tr>\n",
       "      <th>1</th>\n",
       "      <td>FW0AJpVxlvOwYE-87v3Ocg</td>\n",
       "      <td>korean-bamboo-seattle-3</td>\n",
       "      <td>Korean Bamboo</td>\n",
       "      <td>https://s3-media1.fl.yelpcdn.com/bphoto/6kfG77...</td>\n",
       "      <td>False</td>\n",
       "      <td>https://www.yelp.com/biz/korean-bamboo-seattle...</td>\n",
       "      <td>430</td>\n",
       "      <td>[{'alias': 'korean', 'title': 'Korean'}]</td>\n",
       "      <td>4.0</td>\n",
       "      <td>{'latitude': 47.61479, 'longitude': -122.34435}</td>\n",
       "      <td>[pickup, delivery]</td>\n",
       "      <td>$$</td>\n",
       "      <td>{'address1': '2236 3rd Ave', 'address2': '', '...</td>\n",
       "      <td>+12064439898</td>\n",
       "      <td>(206) 443-9898</td>\n",
       "      <td>1084.643351</td>\n",
       "    </tr>\n",
       "    <tr>\n",
       "      <th>2</th>\n",
       "      <td>h1Q0Wkx5TUUZeVjJrXTwmQ</td>\n",
       "      <td>chan-seattle-seattle-2</td>\n",
       "      <td>Chan Seattle</td>\n",
       "      <td>https://s3-media2.fl.yelpcdn.com/bphoto/C5Iry3...</td>\n",
       "      <td>False</td>\n",
       "      <td>https://www.yelp.com/biz/chan-seattle-seattle-...</td>\n",
       "      <td>982</td>\n",
       "      <td>[{'alias': 'asianfusion', 'title': 'Asian Fusi...</td>\n",
       "      <td>4.5</td>\n",
       "      <td>{'latitude': 47.61312322818342, 'longitude': -...</td>\n",
       "      <td>[delivery]</td>\n",
       "      <td>$$</td>\n",
       "      <td>{'address1': '724 Pine St', 'address2': '', 'a...</td>\n",
       "      <td>+14256582626</td>\n",
       "      <td>(425) 658-2626</td>\n",
       "      <td>287.367244</td>\n",
       "    </tr>\n",
       "    <tr>\n",
       "      <th>3</th>\n",
       "      <td>_lQGmkw63PESnnffUzl4fg</td>\n",
       "      <td>kimchi-house-seattle</td>\n",
       "      <td>Kimchi House</td>\n",
       "      <td>https://s3-media3.fl.yelpcdn.com/bphoto/oD037B...</td>\n",
       "      <td>False</td>\n",
       "      <td>https://www.yelp.com/biz/kimchi-house-seattle?...</td>\n",
       "      <td>300</td>\n",
       "      <td>[{'alias': 'korean', 'title': 'Korean'}]</td>\n",
       "      <td>4.5</td>\n",
       "      <td>{'latitude': 47.6713381, 'longitude': -122.387...</td>\n",
       "      <td>[pickup, delivery]</td>\n",
       "      <td>$$</td>\n",
       "      <td>{'address1': '5809 24th Ave NW', 'address2': '...</td>\n",
       "      <td>+12067845322</td>\n",
       "      <td>(206) 784-5322</td>\n",
       "      <td>7677.922703</td>\n",
       "    </tr>\n",
       "    <tr>\n",
       "      <th>4</th>\n",
       "      <td>nUkPOJ5p4E9U7e2DbOzzMw</td>\n",
       "      <td>meet-korean-bbq-seattle</td>\n",
       "      <td>Meet Korean BBQ</td>\n",
       "      <td>https://s3-media3.fl.yelpcdn.com/bphoto/UwvDMA...</td>\n",
       "      <td>False</td>\n",
       "      <td>https://www.yelp.com/biz/meet-korean-bbq-seatt...</td>\n",
       "      <td>314</td>\n",
       "      <td>[{'alias': 'bbq', 'title': 'Barbeque'}, {'alia...</td>\n",
       "      <td>4.5</td>\n",
       "      <td>{'latitude': 47.614352, 'longitude': -122.325214}</td>\n",
       "      <td>[pickup, delivery]</td>\n",
       "      <td>$$$$</td>\n",
       "      <td>{'address1': '500 E Pike St', 'address2': None...</td>\n",
       "      <td>+12066952621</td>\n",
       "      <td>(206) 695-2621</td>\n",
       "      <td>361.544031</td>\n",
       "    </tr>\n",
       "  </tbody>\n",
       "</table>\n",
       "</div>"
      ],
      "text/plain": [
       "                       id                        alias               name  \\\n",
       "0  45iVzFsXpjUuiBw0Dhc_Qg  seoul-tofu-and-jjim-seattle  Seoul Tofu & Jjim   \n",
       "1  FW0AJpVxlvOwYE-87v3Ocg      korean-bamboo-seattle-3      Korean Bamboo   \n",
       "2  h1Q0Wkx5TUUZeVjJrXTwmQ       chan-seattle-seattle-2       Chan Seattle   \n",
       "3  _lQGmkw63PESnnffUzl4fg         kimchi-house-seattle       Kimchi House   \n",
       "4  nUkPOJ5p4E9U7e2DbOzzMw      meet-korean-bbq-seattle    Meet Korean BBQ   \n",
       "\n",
       "                                           image_url  is_closed  \\\n",
       "0  https://s3-media4.fl.yelpcdn.com/bphoto/2GgYXM...      False   \n",
       "1  https://s3-media1.fl.yelpcdn.com/bphoto/6kfG77...      False   \n",
       "2  https://s3-media2.fl.yelpcdn.com/bphoto/C5Iry3...      False   \n",
       "3  https://s3-media3.fl.yelpcdn.com/bphoto/oD037B...      False   \n",
       "4  https://s3-media3.fl.yelpcdn.com/bphoto/UwvDMA...      False   \n",
       "\n",
       "                                                 url  review_count  \\\n",
       "0  https://www.yelp.com/biz/seoul-tofu-and-jjim-s...           132   \n",
       "1  https://www.yelp.com/biz/korean-bamboo-seattle...           430   \n",
       "2  https://www.yelp.com/biz/chan-seattle-seattle-...           982   \n",
       "3  https://www.yelp.com/biz/kimchi-house-seattle?...           300   \n",
       "4  https://www.yelp.com/biz/meet-korean-bbq-seatt...           314   \n",
       "\n",
       "                                          categories  rating  \\\n",
       "0           [{'alias': 'korean', 'title': 'Korean'}]     5.0   \n",
       "1           [{'alias': 'korean', 'title': 'Korean'}]     4.0   \n",
       "2  [{'alias': 'asianfusion', 'title': 'Asian Fusi...     4.5   \n",
       "3           [{'alias': 'korean', 'title': 'Korean'}]     4.5   \n",
       "4  [{'alias': 'bbq', 'title': 'Barbeque'}, {'alia...     4.5   \n",
       "\n",
       "                                         coordinates        transactions  \\\n",
       "0    {'latitude': 47.62224, 'longitude': -122.32064}  [pickup, delivery]   \n",
       "1    {'latitude': 47.61479, 'longitude': -122.34435}  [pickup, delivery]   \n",
       "2  {'latitude': 47.61312322818342, 'longitude': -...          [delivery]   \n",
       "3  {'latitude': 47.6713381, 'longitude': -122.387...  [pickup, delivery]   \n",
       "4  {'latitude': 47.614352, 'longitude': -122.325214}  [pickup, delivery]   \n",
       "\n",
       "  price                                           location         phone  \\\n",
       "0    $$  {'address1': '406 Broadway E', 'address2': Non...  +12062575642   \n",
       "1    $$  {'address1': '2236 3rd Ave', 'address2': '', '...  +12064439898   \n",
       "2    $$  {'address1': '724 Pine St', 'address2': '', 'a...  +14256582626   \n",
       "3    $$  {'address1': '5809 24th Ave NW', 'address2': '...  +12067845322   \n",
       "4  $$$$  {'address1': '500 E Pike St', 'address2': None...  +12066952621   \n",
       "\n",
       "    display_phone     distance  \n",
       "0  (206) 257-5642  1130.239024  \n",
       "1  (206) 443-9898  1084.643351  \n",
       "2  (425) 658-2626   287.367244  \n",
       "3  (206) 784-5322  7677.922703  \n",
       "4  (206) 695-2621   361.544031  "
      ]
     },
     "metadata": {},
     "output_type": "display_data"
    },
    {
     "data": {
      "text/html": [
       "<div>\n",
       "<style scoped>\n",
       "    .dataframe tbody tr th:only-of-type {\n",
       "        vertical-align: middle;\n",
       "    }\n",
       "\n",
       "    .dataframe tbody tr th {\n",
       "        vertical-align: top;\n",
       "    }\n",
       "\n",
       "    .dataframe thead th {\n",
       "        text-align: right;\n",
       "    }\n",
       "</style>\n",
       "<table border=\"1\" class=\"dataframe\">\n",
       "  <thead>\n",
       "    <tr style=\"text-align: right;\">\n",
       "      <th></th>\n",
       "      <th>id</th>\n",
       "      <th>alias</th>\n",
       "      <th>name</th>\n",
       "      <th>image_url</th>\n",
       "      <th>is_closed</th>\n",
       "      <th>url</th>\n",
       "      <th>review_count</th>\n",
       "      <th>categories</th>\n",
       "      <th>rating</th>\n",
       "      <th>coordinates</th>\n",
       "      <th>transactions</th>\n",
       "      <th>price</th>\n",
       "      <th>location</th>\n",
       "      <th>phone</th>\n",
       "      <th>display_phone</th>\n",
       "      <th>distance</th>\n",
       "    </tr>\n",
       "  </thead>\n",
       "  <tbody>\n",
       "    <tr>\n",
       "      <th>727</th>\n",
       "      <td>SfTKUd6dDLlxIWEYPWQFrA</td>\n",
       "      <td>yummy-teriyaki-bothell</td>\n",
       "      <td>Yummy Teriyaki</td>\n",
       "      <td>https://s3-media1.fl.yelpcdn.com/bphoto/f5VtDY...</td>\n",
       "      <td>False</td>\n",
       "      <td>https://www.yelp.com/biz/yummy-teriyaki-bothel...</td>\n",
       "      <td>71</td>\n",
       "      <td>[{'alias': 'japanese', 'title': 'Japanese'}, {...</td>\n",
       "      <td>3.5</td>\n",
       "      <td>{'latitude': 47.8106880187988, 'longitude': -1...</td>\n",
       "      <td>[pickup, delivery]</td>\n",
       "      <td>$</td>\n",
       "      <td>{'address1': '20631 Bothell Everett Hwy', 'add...</td>\n",
       "      <td>+14253980505</td>\n",
       "      <td>(425) 398-0505</td>\n",
       "      <td>23736.469227</td>\n",
       "    </tr>\n",
       "    <tr>\n",
       "      <th>728</th>\n",
       "      <td>2CDhqi3a3ED2TyYiv-_fnQ</td>\n",
       "      <td>apple-teriyaki-redmond</td>\n",
       "      <td>Apple Teriyaki</td>\n",
       "      <td>https://s3-media1.fl.yelpcdn.com/bphoto/UFXHoQ...</td>\n",
       "      <td>False</td>\n",
       "      <td>https://www.yelp.com/biz/apple-teriyaki-redmon...</td>\n",
       "      <td>95</td>\n",
       "      <td>[{'alias': 'japanese', 'title': 'Japanese'}]</td>\n",
       "      <td>3.5</td>\n",
       "      <td>{'latitude': 47.70279, 'longitude': -122.09359}</td>\n",
       "      <td>[delivery]</td>\n",
       "      <td>$</td>\n",
       "      <td>{'address1': '11523 Avondale Rd NE', 'address2...</td>\n",
       "      <td>+14258834389</td>\n",
       "      <td>(425) 883-4389</td>\n",
       "      <td>20245.467760</td>\n",
       "    </tr>\n",
       "    <tr>\n",
       "      <th>729</th>\n",
       "      <td>3sj7NDcQv_CEKNQFXXF-BQ</td>\n",
       "      <td>teriyaki-town-shoreline</td>\n",
       "      <td>Teriyaki Town</td>\n",
       "      <td>https://s3-media4.fl.yelpcdn.com/bphoto/1VCGYx...</td>\n",
       "      <td>False</td>\n",
       "      <td>https://www.yelp.com/biz/teriyaki-town-shoreli...</td>\n",
       "      <td>88</td>\n",
       "      <td>[{'alias': 'japanese', 'title': 'Japanese'}]</td>\n",
       "      <td>3.5</td>\n",
       "      <td>{'latitude': 47.777331, 'longitude': -122.311783}</td>\n",
       "      <td>[delivery]</td>\n",
       "      <td>$</td>\n",
       "      <td>{'address1': '20320 Ballinger Way NE', 'addres...</td>\n",
       "      <td>+12063619088</td>\n",
       "      <td>(206) 361-9088</td>\n",
       "      <td>18178.257249</td>\n",
       "    </tr>\n",
       "    <tr>\n",
       "      <th>730</th>\n",
       "      <td>AQSRgIPv7B2szCeQF2LxLw</td>\n",
       "      <td>apple-teriyaki-federal-way</td>\n",
       "      <td>Apple Teriyaki</td>\n",
       "      <td>https://s3-media4.fl.yelpcdn.com/bphoto/NvvfbE...</td>\n",
       "      <td>False</td>\n",
       "      <td>https://www.yelp.com/biz/apple-teriyaki-federa...</td>\n",
       "      <td>36</td>\n",
       "      <td>[{'alias': 'japanese', 'title': 'Japanese'}]</td>\n",
       "      <td>3.0</td>\n",
       "      <td>{'latitude': 47.3563199, 'longitude': -122.30925}</td>\n",
       "      <td>[delivery]</td>\n",
       "      <td>$</td>\n",
       "      <td>{'address1': '27400 Pacific Hwy S', 'address2'...</td>\n",
       "      <td>+12538390110</td>\n",
       "      <td>(253) 839-0110</td>\n",
       "      <td>28725.671264</td>\n",
       "    </tr>\n",
       "    <tr>\n",
       "      <th>731</th>\n",
       "      <td>KqFc899W0u0PBZp0iopEaA</td>\n",
       "      <td>big-teriyaki-lynnwood</td>\n",
       "      <td>Big Teriyaki</td>\n",
       "      <td>https://s3-media3.fl.yelpcdn.com/bphoto/2AoRr4...</td>\n",
       "      <td>False</td>\n",
       "      <td>https://www.yelp.com/biz/big-teriyaki-lynnwood...</td>\n",
       "      <td>55</td>\n",
       "      <td>[{'alias': 'japanese', 'title': 'Japanese'}, {...</td>\n",
       "      <td>3.5</td>\n",
       "      <td>{'latitude': 47.8645401682447, 'longitude': -1...</td>\n",
       "      <td>[delivery]</td>\n",
       "      <td>$</td>\n",
       "      <td>{'address1': '3625 148th St SW', 'address2': '...</td>\n",
       "      <td>+14256780072</td>\n",
       "      <td>(425) 678-0072</td>\n",
       "      <td>28049.458470</td>\n",
       "    </tr>\n",
       "  </tbody>\n",
       "</table>\n",
       "</div>"
      ],
      "text/plain": [
       "                         id                       alias            name  \\\n",
       "727  SfTKUd6dDLlxIWEYPWQFrA      yummy-teriyaki-bothell  Yummy Teriyaki   \n",
       "728  2CDhqi3a3ED2TyYiv-_fnQ      apple-teriyaki-redmond  Apple Teriyaki   \n",
       "729  3sj7NDcQv_CEKNQFXXF-BQ     teriyaki-town-shoreline   Teriyaki Town   \n",
       "730  AQSRgIPv7B2szCeQF2LxLw  apple-teriyaki-federal-way  Apple Teriyaki   \n",
       "731  KqFc899W0u0PBZp0iopEaA       big-teriyaki-lynnwood    Big Teriyaki   \n",
       "\n",
       "                                             image_url  is_closed  \\\n",
       "727  https://s3-media1.fl.yelpcdn.com/bphoto/f5VtDY...      False   \n",
       "728  https://s3-media1.fl.yelpcdn.com/bphoto/UFXHoQ...      False   \n",
       "729  https://s3-media4.fl.yelpcdn.com/bphoto/1VCGYx...      False   \n",
       "730  https://s3-media4.fl.yelpcdn.com/bphoto/NvvfbE...      False   \n",
       "731  https://s3-media3.fl.yelpcdn.com/bphoto/2AoRr4...      False   \n",
       "\n",
       "                                                   url  review_count  \\\n",
       "727  https://www.yelp.com/biz/yummy-teriyaki-bothel...            71   \n",
       "728  https://www.yelp.com/biz/apple-teriyaki-redmon...            95   \n",
       "729  https://www.yelp.com/biz/teriyaki-town-shoreli...            88   \n",
       "730  https://www.yelp.com/biz/apple-teriyaki-federa...            36   \n",
       "731  https://www.yelp.com/biz/big-teriyaki-lynnwood...            55   \n",
       "\n",
       "                                            categories  rating  \\\n",
       "727  [{'alias': 'japanese', 'title': 'Japanese'}, {...     3.5   \n",
       "728       [{'alias': 'japanese', 'title': 'Japanese'}]     3.5   \n",
       "729       [{'alias': 'japanese', 'title': 'Japanese'}]     3.5   \n",
       "730       [{'alias': 'japanese', 'title': 'Japanese'}]     3.0   \n",
       "731  [{'alias': 'japanese', 'title': 'Japanese'}, {...     3.5   \n",
       "\n",
       "                                           coordinates        transactions  \\\n",
       "727  {'latitude': 47.8106880187988, 'longitude': -1...  [pickup, delivery]   \n",
       "728    {'latitude': 47.70279, 'longitude': -122.09359}          [delivery]   \n",
       "729  {'latitude': 47.777331, 'longitude': -122.311783}          [delivery]   \n",
       "730  {'latitude': 47.3563199, 'longitude': -122.30925}          [delivery]   \n",
       "731  {'latitude': 47.8645401682447, 'longitude': -1...          [delivery]   \n",
       "\n",
       "    price                                           location         phone  \\\n",
       "727     $  {'address1': '20631 Bothell Everett Hwy', 'add...  +14253980505   \n",
       "728     $  {'address1': '11523 Avondale Rd NE', 'address2...  +14258834389   \n",
       "729     $  {'address1': '20320 Ballinger Way NE', 'addres...  +12063619088   \n",
       "730     $  {'address1': '27400 Pacific Hwy S', 'address2'...  +12538390110   \n",
       "731     $  {'address1': '3625 148th St SW', 'address2': '...  +14256780072   \n",
       "\n",
       "      display_phone      distance  \n",
       "727  (425) 398-0505  23736.469227  \n",
       "728  (425) 883-4389  20245.467760  \n",
       "729  (206) 361-9088  18178.257249  \n",
       "730  (253) 839-0110  28725.671264  \n",
       "731  (425) 678-0072  28049.458470  "
      ]
     },
     "metadata": {},
     "output_type": "display_data"
    }
   ],
   "source": [
    "# convert results in progress json file to df\n",
    "final_df = pd.read_json(JSON_FILE)\n",
    "display(final_df.head(), final_df.tail())"
   ]
  },
  {
   "cell_type": "code",
   "execution_count": 27,
   "id": "0b18a518",
   "metadata": {},
   "outputs": [
    {
     "data": {
      "text/plain": [
       "1"
      ]
     },
     "execution_count": 27,
     "metadata": {},
     "output_type": "execute_result"
    }
   ],
   "source": [
    "# check for duplicates of ids\n",
    "final_df.duplicated(subset = 'id').sum()"
   ]
  },
  {
   "cell_type": "code",
   "execution_count": 28,
   "id": "e08bb12d",
   "metadata": {},
   "outputs": [
    {
     "data": {
      "text/plain": [
       "0"
      ]
     },
     "execution_count": 28,
     "metadata": {},
     "output_type": "execute_result"
    }
   ],
   "source": [
    "# drop duplicates\n",
    "final_df = final_df.drop_duplicates(subset = 'id')\n",
    "\n",
    "# check\n",
    "final_df.duplicated(subset = 'id').sum()"
   ]
  },
  {
   "cell_type": "code",
   "execution_count": 29,
   "id": "68027cf8",
   "metadata": {},
   "outputs": [],
   "source": [
    "# save final results to csv\n",
    "final_df.to_csv('Data/final_results_Seattle_Korean.csv',\n",
    "               index = False)\n",
    "\n",
    "# alternate option to zip if needed:\n",
    "# final_df.to_csv('Data/final_results_Seattle_Korean.csv.gz',\n",
    "#                 compression = 'gzip',\n",
    "#                 index = False)"
   ]
  },
  {
   "cell_type": "code",
   "execution_count": null,
   "id": "c5acd6f1",
   "metadata": {},
   "outputs": [],
   "source": []
  }
 ],
 "metadata": {
  "kernelspec": {
   "display_name": "Python (dojo-env)",
   "language": "python",
   "name": "dojo-env"
  },
  "language_info": {
   "codemirror_mode": {
    "name": "ipython",
    "version": 3
   },
   "file_extension": ".py",
   "mimetype": "text/x-python",
   "name": "python",
   "nbconvert_exporter": "python",
   "pygments_lexer": "ipython3",
   "version": "3.9.15"
  },
  "toc": {
   "base_numbering": 1,
   "nav_menu": {},
   "number_sections": false,
   "sideBar": true,
   "skip_h1_title": false,
   "title_cell": "Table of Contents",
   "title_sidebar": "Contents",
   "toc_cell": false,
   "toc_position": {},
   "toc_section_display": true,
   "toc_window_display": false
  }
 },
 "nbformat": 4,
 "nbformat_minor": 5
}
