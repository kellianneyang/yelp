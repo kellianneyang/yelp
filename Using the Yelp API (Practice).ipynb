{
 "cells": [
  {
   "cell_type": "markdown",
   "id": "76704aee",
   "metadata": {},
   "source": [
    "# Using the Yelp API (Practice)"
   ]
  },
  {
   "cell_type": "markdown",
   "id": "da4d074b",
   "metadata": {},
   "source": [
    "## 1. Use your API credentials to access the the Yelp API"
   ]
  },
  {
   "cell_type": "code",
   "execution_count": 16,
   "id": "bdf8eb51",
   "metadata": {},
   "outputs": [
    {
     "data": {
      "text/plain": [
       "dict_keys(['client-id', 'api-key'])"
      ]
     },
     "execution_count": 16,
     "metadata": {},
     "output_type": "execute_result"
    }
   ],
   "source": [
    "# import json to read yelp api credentials\n",
    "import json\n",
    "\n",
    "# with open: yelp api credentials (save as variable)\n",
    "with open('/Users/yang0108/.secret/yelp_api.json') as f:\n",
    "    login = json.load(f)\n",
    "\n",
    "login.keys()"
   ]
  },
  {
   "cell_type": "code",
   "execution_count": 17,
   "id": "305ee41f",
   "metadata": {},
   "outputs": [
    {
     "data": {
      "text/plain": [
       "<yelpapi.yelpapi.YelpAPI at 0x1ab0fe0c970>"
      ]
     },
     "execution_count": 17,
     "metadata": {},
     "output_type": "execute_result"
    }
   ],
   "source": [
    "# import yelpapi class\n",
    "from yelpapi import YelpAPI\n",
    "\n",
    "# create instance with api key\n",
    "yelp_api = YelpAPI(login['api-key'], timeout_s = 5.0)\n",
    "yelp_api"
   ]
  },
  {
   "cell_type": "markdown",
   "id": "8eef787d",
   "metadata": {},
   "source": [
    "## 2. You can choose the location and search term (food), but it must return more than 20 results so you can practice pagination!"
   ]
  },
  {
   "cell_type": "code",
   "execution_count": 18,
   "id": "87c32321",
   "metadata": {},
   "outputs": [
    {
     "name": "stdout",
     "output_type": "stream",
     "text": [
      "<class 'dict'>\n"
     ]
    },
    {
     "data": {
      "text/plain": [
       "dict_keys(['businesses', 'total', 'region'])"
      ]
     },
     "execution_count": 18,
     "metadata": {},
     "output_type": "execute_result"
    }
   ],
   "source": [
    "# use search_query method to perform api call\n",
    "search_results_0 = yelp_api.search_query(location = 'Seattle, WA',\n",
    "                                      term = 'Korean')\n",
    "\n",
    "# check\n",
    "print(type(search_results_0))\n",
    "search_results_0.keys()"
   ]
  },
  {
   "cell_type": "code",
   "execution_count": 19,
   "id": "c09a40ca",
   "metadata": {},
   "outputs": [
    {
     "data": {
      "text/plain": [
       "732"
      ]
     },
     "execution_count": 19,
     "metadata": {},
     "output_type": "execute_result"
    }
   ],
   "source": [
    "# how many total search results?\n",
    "search_results_0['total']"
   ]
  },
  {
   "cell_type": "code",
   "execution_count": 20,
   "id": "cb7c85d6",
   "metadata": {},
   "outputs": [
    {
     "data": {
      "text/html": [
       "<div>\n",
       "<style scoped>\n",
       "    .dataframe tbody tr th:only-of-type {\n",
       "        vertical-align: middle;\n",
       "    }\n",
       "\n",
       "    .dataframe tbody tr th {\n",
       "        vertical-align: top;\n",
       "    }\n",
       "\n",
       "    .dataframe thead th {\n",
       "        text-align: right;\n",
       "    }\n",
       "</style>\n",
       "<table border=\"1\" class=\"dataframe\">\n",
       "  <thead>\n",
       "    <tr style=\"text-align: right;\">\n",
       "      <th></th>\n",
       "      <th>id</th>\n",
       "      <th>alias</th>\n",
       "      <th>name</th>\n",
       "      <th>image_url</th>\n",
       "      <th>is_closed</th>\n",
       "      <th>url</th>\n",
       "      <th>review_count</th>\n",
       "      <th>categories</th>\n",
       "      <th>rating</th>\n",
       "      <th>coordinates</th>\n",
       "      <th>transactions</th>\n",
       "      <th>price</th>\n",
       "      <th>location</th>\n",
       "      <th>phone</th>\n",
       "      <th>display_phone</th>\n",
       "      <th>distance</th>\n",
       "    </tr>\n",
       "  </thead>\n",
       "  <tbody>\n",
       "    <tr>\n",
       "      <th>0</th>\n",
       "      <td>45iVzFsXpjUuiBw0Dhc_Qg</td>\n",
       "      <td>seoul-tofu-and-jjim-seattle</td>\n",
       "      <td>Seoul Tofu &amp; Jjim</td>\n",
       "      <td>https://s3-media4.fl.yelpcdn.com/bphoto/2GgYXM...</td>\n",
       "      <td>False</td>\n",
       "      <td>https://www.yelp.com/biz/seoul-tofu-and-jjim-s...</td>\n",
       "      <td>132</td>\n",
       "      <td>[{'alias': 'korean', 'title': 'Korean'}]</td>\n",
       "      <td>5.0</td>\n",
       "      <td>{'latitude': 47.62224, 'longitude': -122.32064}</td>\n",
       "      <td>[delivery, pickup]</td>\n",
       "      <td>$$</td>\n",
       "      <td>{'address1': '406 Broadway E', 'address2': Non...</td>\n",
       "      <td>+12062575642</td>\n",
       "      <td>(206) 257-5642</td>\n",
       "      <td>1130.239024</td>\n",
       "    </tr>\n",
       "    <tr>\n",
       "      <th>1</th>\n",
       "      <td>h1Q0Wkx5TUUZeVjJrXTwmQ</td>\n",
       "      <td>chan-seattle-seattle-2</td>\n",
       "      <td>Chan Seattle</td>\n",
       "      <td>https://s3-media2.fl.yelpcdn.com/bphoto/C5Iry3...</td>\n",
       "      <td>False</td>\n",
       "      <td>https://www.yelp.com/biz/chan-seattle-seattle-...</td>\n",
       "      <td>982</td>\n",
       "      <td>[{'alias': 'asianfusion', 'title': 'Asian Fusi...</td>\n",
       "      <td>4.5</td>\n",
       "      <td>{'latitude': 47.61312322818342, 'longitude': -...</td>\n",
       "      <td>[delivery]</td>\n",
       "      <td>$$</td>\n",
       "      <td>{'address1': '724 Pine St', 'address2': '', 'a...</td>\n",
       "      <td>+14256582626</td>\n",
       "      <td>(425) 658-2626</td>\n",
       "      <td>287.367244</td>\n",
       "    </tr>\n",
       "  </tbody>\n",
       "</table>\n",
       "</div>"
      ],
      "text/plain": [
       "                       id                        alias               name  \\\n",
       "0  45iVzFsXpjUuiBw0Dhc_Qg  seoul-tofu-and-jjim-seattle  Seoul Tofu & Jjim   \n",
       "1  h1Q0Wkx5TUUZeVjJrXTwmQ       chan-seattle-seattle-2       Chan Seattle   \n",
       "\n",
       "                                           image_url  is_closed  \\\n",
       "0  https://s3-media4.fl.yelpcdn.com/bphoto/2GgYXM...      False   \n",
       "1  https://s3-media2.fl.yelpcdn.com/bphoto/C5Iry3...      False   \n",
       "\n",
       "                                                 url  review_count  \\\n",
       "0  https://www.yelp.com/biz/seoul-tofu-and-jjim-s...           132   \n",
       "1  https://www.yelp.com/biz/chan-seattle-seattle-...           982   \n",
       "\n",
       "                                          categories  rating  \\\n",
       "0           [{'alias': 'korean', 'title': 'Korean'}]     5.0   \n",
       "1  [{'alias': 'asianfusion', 'title': 'Asian Fusi...     4.5   \n",
       "\n",
       "                                         coordinates        transactions  \\\n",
       "0    {'latitude': 47.62224, 'longitude': -122.32064}  [delivery, pickup]   \n",
       "1  {'latitude': 47.61312322818342, 'longitude': -...          [delivery]   \n",
       "\n",
       "  price                                           location         phone  \\\n",
       "0    $$  {'address1': '406 Broadway E', 'address2': Non...  +12062575642   \n",
       "1    $$  {'address1': '724 Pine St', 'address2': '', 'a...  +14256582626   \n",
       "\n",
       "    display_phone     distance  \n",
       "0  (206) 257-5642  1130.239024  \n",
       "1  (425) 658-2626   287.367244  "
      ]
     },
     "execution_count": 20,
     "metadata": {},
     "output_type": "execute_result"
    }
   ],
   "source": [
    "# import pandas\n",
    "import pandas as pd\n",
    "\n",
    "# look at data in dataframe\n",
    "biz0 = pd.DataFrame(search_results_0['businesses'])\n",
    "biz0.head(2)"
   ]
  },
  {
   "cell_type": "code",
   "execution_count": 21,
   "id": "9de36389",
   "metadata": {},
   "outputs": [
    {
     "data": {
      "text/plain": [
       "20"
      ]
     },
     "execution_count": 21,
     "metadata": {},
     "output_type": "execute_result"
    }
   ],
   "source": [
    "# how many businesses were returned in our api call?\n",
    "len(search_results_0['businesses'])\n",
    "\n",
    "# this represents the first 'page' of results"
   ]
  },
  {
   "cell_type": "markdown",
   "id": "0efaf9b5",
   "metadata": {},
   "source": [
    "## 3. Obtain ONLY the first two pages of results"
   ]
  },
  {
   "cell_type": "code",
   "execution_count": 22,
   "id": "ac208161",
   "metadata": {},
   "outputs": [],
   "source": [
    "# get the second page of results with another call\n",
    "search_results_20 = yelp_api.search_query(location = 'Seattle, WA',\n",
    "                                        term = 'Korean',\n",
    "                                          offset = 20)"
   ]
  },
  {
   "cell_type": "code",
   "execution_count": 23,
   "id": "6a19be2d",
   "metadata": {},
   "outputs": [
    {
     "data": {
      "text/html": [
       "<div>\n",
       "<style scoped>\n",
       "    .dataframe tbody tr th:only-of-type {\n",
       "        vertical-align: middle;\n",
       "    }\n",
       "\n",
       "    .dataframe tbody tr th {\n",
       "        vertical-align: top;\n",
       "    }\n",
       "\n",
       "    .dataframe thead th {\n",
       "        text-align: right;\n",
       "    }\n",
       "</style>\n",
       "<table border=\"1\" class=\"dataframe\">\n",
       "  <thead>\n",
       "    <tr style=\"text-align: right;\">\n",
       "      <th></th>\n",
       "      <th>id</th>\n",
       "      <th>alias</th>\n",
       "      <th>name</th>\n",
       "      <th>image_url</th>\n",
       "      <th>is_closed</th>\n",
       "      <th>url</th>\n",
       "      <th>review_count</th>\n",
       "      <th>categories</th>\n",
       "      <th>rating</th>\n",
       "      <th>coordinates</th>\n",
       "      <th>transactions</th>\n",
       "      <th>price</th>\n",
       "      <th>location</th>\n",
       "      <th>phone</th>\n",
       "      <th>display_phone</th>\n",
       "      <th>distance</th>\n",
       "    </tr>\n",
       "  </thead>\n",
       "  <tbody>\n",
       "    <tr>\n",
       "      <th>0</th>\n",
       "      <td>6GkTnlOLJbV_wOYyDF-W9w</td>\n",
       "      <td>sahm-gook-jih-palace-lynnwood</td>\n",
       "      <td>Sahm Gook Jih Palace</td>\n",
       "      <td>https://s3-media3.fl.yelpcdn.com/bphoto/ZX5oWa...</td>\n",
       "      <td>False</td>\n",
       "      <td>https://www.yelp.com/biz/sahm-gook-jih-palace-...</td>\n",
       "      <td>300</td>\n",
       "      <td>[{'alias': 'asianfusion', 'title': 'Asian Fusi...</td>\n",
       "      <td>4.0</td>\n",
       "      <td>{'latitude': 47.8028221130371, 'longitude': -1...</td>\n",
       "      <td>[delivery]</td>\n",
       "      <td>$</td>\n",
       "      <td>{'address1': '21619 Hwy 99', 'address2': 'Ste ...</td>\n",
       "      <td>+14257719888</td>\n",
       "      <td>(425) 771-9888</td>\n",
       "      <td>20961.773722</td>\n",
       "    </tr>\n",
       "    <tr>\n",
       "      <th>1</th>\n",
       "      <td>PFzF3dcRKGcziTf4KT0Skw</td>\n",
       "      <td>korean-tofu-house-seattle</td>\n",
       "      <td>Korean Tofu House</td>\n",
       "      <td>https://s3-media3.fl.yelpcdn.com/bphoto/s21vbN...</td>\n",
       "      <td>False</td>\n",
       "      <td>https://www.yelp.com/biz/korean-tofu-house-sea...</td>\n",
       "      <td>812</td>\n",
       "      <td>[{'alias': 'korean', 'title': 'Korean'}]</td>\n",
       "      <td>3.5</td>\n",
       "      <td>{'latitude': 47.658422, 'longitude': -122.31397}</td>\n",
       "      <td>[pickup, delivery]</td>\n",
       "      <td>$$</td>\n",
       "      <td>{'address1': '4142 Brooklyn Ave NE', 'address2...</td>\n",
       "      <td>+12066323119</td>\n",
       "      <td>(206) 632-3119</td>\n",
       "      <td>5050.117910</td>\n",
       "    </tr>\n",
       "  </tbody>\n",
       "</table>\n",
       "</div>"
      ],
      "text/plain": [
       "                       id                          alias  \\\n",
       "0  6GkTnlOLJbV_wOYyDF-W9w  sahm-gook-jih-palace-lynnwood   \n",
       "1  PFzF3dcRKGcziTf4KT0Skw      korean-tofu-house-seattle   \n",
       "\n",
       "                   name                                          image_url  \\\n",
       "0  Sahm Gook Jih Palace  https://s3-media3.fl.yelpcdn.com/bphoto/ZX5oWa...   \n",
       "1     Korean Tofu House  https://s3-media3.fl.yelpcdn.com/bphoto/s21vbN...   \n",
       "\n",
       "   is_closed                                                url  review_count  \\\n",
       "0      False  https://www.yelp.com/biz/sahm-gook-jih-palace-...           300   \n",
       "1      False  https://www.yelp.com/biz/korean-tofu-house-sea...           812   \n",
       "\n",
       "                                          categories  rating  \\\n",
       "0  [{'alias': 'asianfusion', 'title': 'Asian Fusi...     4.0   \n",
       "1           [{'alias': 'korean', 'title': 'Korean'}]     3.5   \n",
       "\n",
       "                                         coordinates        transactions  \\\n",
       "0  {'latitude': 47.8028221130371, 'longitude': -1...          [delivery]   \n",
       "1   {'latitude': 47.658422, 'longitude': -122.31397}  [pickup, delivery]   \n",
       "\n",
       "  price                                           location         phone  \\\n",
       "0     $  {'address1': '21619 Hwy 99', 'address2': 'Ste ...  +14257719888   \n",
       "1    $$  {'address1': '4142 Brooklyn Ave NE', 'address2...  +12066323119   \n",
       "\n",
       "    display_phone      distance  \n",
       "0  (425) 771-9888  20961.773722  \n",
       "1  (206) 632-3119   5050.117910  "
      ]
     },
     "execution_count": 23,
     "metadata": {},
     "output_type": "execute_result"
    }
   ],
   "source": [
    "# save second page of results in another dataframe\n",
    "biz20 = pd.DataFrame(search_results_20['businesses'])\n",
    "biz20.head(2)"
   ]
  },
  {
   "cell_type": "markdown",
   "id": "42af7239",
   "metadata": {},
   "source": [
    "## 4. Concatenate the results into one data frame"
   ]
  },
  {
   "cell_type": "code",
   "execution_count": 24,
   "id": "1f1d602c",
   "metadata": {},
   "outputs": [
    {
     "data": {
      "text/html": [
       "<div>\n",
       "<style scoped>\n",
       "    .dataframe tbody tr th:only-of-type {\n",
       "        vertical-align: middle;\n",
       "    }\n",
       "\n",
       "    .dataframe tbody tr th {\n",
       "        vertical-align: top;\n",
       "    }\n",
       "\n",
       "    .dataframe thead th {\n",
       "        text-align: right;\n",
       "    }\n",
       "</style>\n",
       "<table border=\"1\" class=\"dataframe\">\n",
       "  <thead>\n",
       "    <tr style=\"text-align: right;\">\n",
       "      <th></th>\n",
       "      <th>id</th>\n",
       "      <th>alias</th>\n",
       "      <th>name</th>\n",
       "      <th>image_url</th>\n",
       "      <th>is_closed</th>\n",
       "      <th>url</th>\n",
       "      <th>review_count</th>\n",
       "      <th>categories</th>\n",
       "      <th>rating</th>\n",
       "      <th>coordinates</th>\n",
       "      <th>transactions</th>\n",
       "      <th>price</th>\n",
       "      <th>location</th>\n",
       "      <th>phone</th>\n",
       "      <th>display_phone</th>\n",
       "      <th>distance</th>\n",
       "    </tr>\n",
       "  </thead>\n",
       "  <tbody>\n",
       "    <tr>\n",
       "      <th>0</th>\n",
       "      <td>45iVzFsXpjUuiBw0Dhc_Qg</td>\n",
       "      <td>seoul-tofu-and-jjim-seattle</td>\n",
       "      <td>Seoul Tofu &amp; Jjim</td>\n",
       "      <td>https://s3-media4.fl.yelpcdn.com/bphoto/2GgYXM...</td>\n",
       "      <td>False</td>\n",
       "      <td>https://www.yelp.com/biz/seoul-tofu-and-jjim-s...</td>\n",
       "      <td>132</td>\n",
       "      <td>[{'alias': 'korean', 'title': 'Korean'}]</td>\n",
       "      <td>5.0</td>\n",
       "      <td>{'latitude': 47.62224, 'longitude': -122.32064}</td>\n",
       "      <td>[delivery, pickup]</td>\n",
       "      <td>$$</td>\n",
       "      <td>{'address1': '406 Broadway E', 'address2': Non...</td>\n",
       "      <td>+12062575642</td>\n",
       "      <td>(206) 257-5642</td>\n",
       "      <td>1130.239024</td>\n",
       "    </tr>\n",
       "    <tr>\n",
       "      <th>1</th>\n",
       "      <td>h1Q0Wkx5TUUZeVjJrXTwmQ</td>\n",
       "      <td>chan-seattle-seattle-2</td>\n",
       "      <td>Chan Seattle</td>\n",
       "      <td>https://s3-media2.fl.yelpcdn.com/bphoto/C5Iry3...</td>\n",
       "      <td>False</td>\n",
       "      <td>https://www.yelp.com/biz/chan-seattle-seattle-...</td>\n",
       "      <td>982</td>\n",
       "      <td>[{'alias': 'asianfusion', 'title': 'Asian Fusi...</td>\n",
       "      <td>4.5</td>\n",
       "      <td>{'latitude': 47.61312322818342, 'longitude': -...</td>\n",
       "      <td>[delivery]</td>\n",
       "      <td>$$</td>\n",
       "      <td>{'address1': '724 Pine St', 'address2': '', 'a...</td>\n",
       "      <td>+14256582626</td>\n",
       "      <td>(425) 658-2626</td>\n",
       "      <td>287.367244</td>\n",
       "    </tr>\n",
       "    <tr>\n",
       "      <th>2</th>\n",
       "      <td>nUkPOJ5p4E9U7e2DbOzzMw</td>\n",
       "      <td>meet-korean-bbq-seattle</td>\n",
       "      <td>Meet Korean BBQ</td>\n",
       "      <td>https://s3-media3.fl.yelpcdn.com/bphoto/UwvDMA...</td>\n",
       "      <td>False</td>\n",
       "      <td>https://www.yelp.com/biz/meet-korean-bbq-seatt...</td>\n",
       "      <td>313</td>\n",
       "      <td>[{'alias': 'bbq', 'title': 'Barbeque'}, {'alia...</td>\n",
       "      <td>4.5</td>\n",
       "      <td>{'latitude': 47.614352, 'longitude': -122.325214}</td>\n",
       "      <td>[delivery, pickup]</td>\n",
       "      <td>$$$$</td>\n",
       "      <td>{'address1': '500 E Pike St', 'address2': None...</td>\n",
       "      <td>+12066952621</td>\n",
       "      <td>(206) 695-2621</td>\n",
       "      <td>361.544031</td>\n",
       "    </tr>\n",
       "  </tbody>\n",
       "</table>\n",
       "</div>"
      ],
      "text/plain": [
       "                       id                        alias               name  \\\n",
       "0  45iVzFsXpjUuiBw0Dhc_Qg  seoul-tofu-and-jjim-seattle  Seoul Tofu & Jjim   \n",
       "1  h1Q0Wkx5TUUZeVjJrXTwmQ       chan-seattle-seattle-2       Chan Seattle   \n",
       "2  nUkPOJ5p4E9U7e2DbOzzMw      meet-korean-bbq-seattle    Meet Korean BBQ   \n",
       "\n",
       "                                           image_url  is_closed  \\\n",
       "0  https://s3-media4.fl.yelpcdn.com/bphoto/2GgYXM...      False   \n",
       "1  https://s3-media2.fl.yelpcdn.com/bphoto/C5Iry3...      False   \n",
       "2  https://s3-media3.fl.yelpcdn.com/bphoto/UwvDMA...      False   \n",
       "\n",
       "                                                 url  review_count  \\\n",
       "0  https://www.yelp.com/biz/seoul-tofu-and-jjim-s...           132   \n",
       "1  https://www.yelp.com/biz/chan-seattle-seattle-...           982   \n",
       "2  https://www.yelp.com/biz/meet-korean-bbq-seatt...           313   \n",
       "\n",
       "                                          categories  rating  \\\n",
       "0           [{'alias': 'korean', 'title': 'Korean'}]     5.0   \n",
       "1  [{'alias': 'asianfusion', 'title': 'Asian Fusi...     4.5   \n",
       "2  [{'alias': 'bbq', 'title': 'Barbeque'}, {'alia...     4.5   \n",
       "\n",
       "                                         coordinates        transactions  \\\n",
       "0    {'latitude': 47.62224, 'longitude': -122.32064}  [delivery, pickup]   \n",
       "1  {'latitude': 47.61312322818342, 'longitude': -...          [delivery]   \n",
       "2  {'latitude': 47.614352, 'longitude': -122.325214}  [delivery, pickup]   \n",
       "\n",
       "  price                                           location         phone  \\\n",
       "0    $$  {'address1': '406 Broadway E', 'address2': Non...  +12062575642   \n",
       "1    $$  {'address1': '724 Pine St', 'address2': '', 'a...  +14256582626   \n",
       "2  $$$$  {'address1': '500 E Pike St', 'address2': None...  +12066952621   \n",
       "\n",
       "    display_phone     distance  \n",
       "0  (206) 257-5642  1130.239024  \n",
       "1  (425) 658-2626   287.367244  \n",
       "2  (206) 695-2621   361.544031  "
      ]
     },
     "metadata": {},
     "output_type": "display_data"
    },
    {
     "data": {
      "text/html": [
       "<div>\n",
       "<style scoped>\n",
       "    .dataframe tbody tr th:only-of-type {\n",
       "        vertical-align: middle;\n",
       "    }\n",
       "\n",
       "    .dataframe tbody tr th {\n",
       "        vertical-align: top;\n",
       "    }\n",
       "\n",
       "    .dataframe thead th {\n",
       "        text-align: right;\n",
       "    }\n",
       "</style>\n",
       "<table border=\"1\" class=\"dataframe\">\n",
       "  <thead>\n",
       "    <tr style=\"text-align: right;\">\n",
       "      <th></th>\n",
       "      <th>id</th>\n",
       "      <th>alias</th>\n",
       "      <th>name</th>\n",
       "      <th>image_url</th>\n",
       "      <th>is_closed</th>\n",
       "      <th>url</th>\n",
       "      <th>review_count</th>\n",
       "      <th>categories</th>\n",
       "      <th>rating</th>\n",
       "      <th>coordinates</th>\n",
       "      <th>transactions</th>\n",
       "      <th>price</th>\n",
       "      <th>location</th>\n",
       "      <th>phone</th>\n",
       "      <th>display_phone</th>\n",
       "      <th>distance</th>\n",
       "    </tr>\n",
       "  </thead>\n",
       "  <tbody>\n",
       "    <tr>\n",
       "      <th>37</th>\n",
       "      <td>Bk1Lv8P0Fb8nGOHVnJ_VbA</td>\n",
       "      <td>babsarang-deli-edmonds-2</td>\n",
       "      <td>Babsarang Deli</td>\n",
       "      <td>https://s3-media2.fl.yelpcdn.com/bphoto/P1rFSU...</td>\n",
       "      <td>False</td>\n",
       "      <td>https://www.yelp.com/biz/babsarang-deli-edmond...</td>\n",
       "      <td>72</td>\n",
       "      <td>[{'alias': 'korean', 'title': 'Korean'}]</td>\n",
       "      <td>4.5</td>\n",
       "      <td>{'latitude': 47.79348, 'longitude': -122.33734}</td>\n",
       "      <td>[delivery]</td>\n",
       "      <td>$$</td>\n",
       "      <td>{'address1': '22618 Hwy 99', 'address2': 'Ste ...</td>\n",
       "      <td>+14257767290</td>\n",
       "      <td>(425) 776-7290</td>\n",
       "      <td>19924.287487</td>\n",
       "    </tr>\n",
       "    <tr>\n",
       "      <th>38</th>\n",
       "      <td>KNLimnRjDonChBcJLs6GLA</td>\n",
       "      <td>traditional-korean-beef-soup-edmonds</td>\n",
       "      <td>Traditional Korean Beef Soup</td>\n",
       "      <td>https://s3-media4.fl.yelpcdn.com/bphoto/Yt_9pW...</td>\n",
       "      <td>False</td>\n",
       "      <td>https://www.yelp.com/biz/traditional-korean-be...</td>\n",
       "      <td>288</td>\n",
       "      <td>[{'alias': 'korean', 'title': 'Korean'}, {'ali...</td>\n",
       "      <td>4.0</td>\n",
       "      <td>{'latitude': 47.7910242, 'longitude': -122.337...</td>\n",
       "      <td>[pickup, delivery]</td>\n",
       "      <td>$$</td>\n",
       "      <td>{'address1': '22929 Hwy 99', 'address2': '', '...</td>\n",
       "      <td>+14259772929</td>\n",
       "      <td>(425) 977-2929</td>\n",
       "      <td>19657.148051</td>\n",
       "    </tr>\n",
       "    <tr>\n",
       "      <th>39</th>\n",
       "      <td>4RYqVtK-BHQ9jH7Yzk9nqA</td>\n",
       "      <td>palmi-korean-bbq-seattle</td>\n",
       "      <td>Palmi Korean BBQ</td>\n",
       "      <td>https://s3-media1.fl.yelpcdn.com/bphoto/SXepoh...</td>\n",
       "      <td>False</td>\n",
       "      <td>https://www.yelp.com/biz/palmi-korean-bbq-seat...</td>\n",
       "      <td>275</td>\n",
       "      <td>[{'alias': 'korean', 'title': 'Korean'}, {'ali...</td>\n",
       "      <td>3.5</td>\n",
       "      <td>{'latitude': 47.66234, 'longitude': -122.31278}</td>\n",
       "      <td>[pickup, delivery]</td>\n",
       "      <td>$$</td>\n",
       "      <td>{'address1': '4534 University Way NE', 'addres...</td>\n",
       "      <td>+12066339993</td>\n",
       "      <td>(206) 633-9993</td>\n",
       "      <td>5495.784994</td>\n",
       "    </tr>\n",
       "  </tbody>\n",
       "</table>\n",
       "</div>"
      ],
      "text/plain": [
       "                        id                                 alias  \\\n",
       "37  Bk1Lv8P0Fb8nGOHVnJ_VbA              babsarang-deli-edmonds-2   \n",
       "38  KNLimnRjDonChBcJLs6GLA  traditional-korean-beef-soup-edmonds   \n",
       "39  4RYqVtK-BHQ9jH7Yzk9nqA              palmi-korean-bbq-seattle   \n",
       "\n",
       "                            name  \\\n",
       "37                Babsarang Deli   \n",
       "38  Traditional Korean Beef Soup   \n",
       "39              Palmi Korean BBQ   \n",
       "\n",
       "                                            image_url  is_closed  \\\n",
       "37  https://s3-media2.fl.yelpcdn.com/bphoto/P1rFSU...      False   \n",
       "38  https://s3-media4.fl.yelpcdn.com/bphoto/Yt_9pW...      False   \n",
       "39  https://s3-media1.fl.yelpcdn.com/bphoto/SXepoh...      False   \n",
       "\n",
       "                                                  url  review_count  \\\n",
       "37  https://www.yelp.com/biz/babsarang-deli-edmond...            72   \n",
       "38  https://www.yelp.com/biz/traditional-korean-be...           288   \n",
       "39  https://www.yelp.com/biz/palmi-korean-bbq-seat...           275   \n",
       "\n",
       "                                           categories  rating  \\\n",
       "37           [{'alias': 'korean', 'title': 'Korean'}]     4.5   \n",
       "38  [{'alias': 'korean', 'title': 'Korean'}, {'ali...     4.0   \n",
       "39  [{'alias': 'korean', 'title': 'Korean'}, {'ali...     3.5   \n",
       "\n",
       "                                          coordinates        transactions  \\\n",
       "37    {'latitude': 47.79348, 'longitude': -122.33734}          [delivery]   \n",
       "38  {'latitude': 47.7910242, 'longitude': -122.337...  [pickup, delivery]   \n",
       "39    {'latitude': 47.66234, 'longitude': -122.31278}  [pickup, delivery]   \n",
       "\n",
       "   price                                           location         phone  \\\n",
       "37    $$  {'address1': '22618 Hwy 99', 'address2': 'Ste ...  +14257767290   \n",
       "38    $$  {'address1': '22929 Hwy 99', 'address2': '', '...  +14259772929   \n",
       "39    $$  {'address1': '4534 University Way NE', 'addres...  +12066339993   \n",
       "\n",
       "     display_phone      distance  \n",
       "37  (425) 776-7290  19924.287487  \n",
       "38  (425) 977-2929  19657.148051  \n",
       "39  (206) 633-9993   5495.784994  "
      ]
     },
     "metadata": {},
     "output_type": "display_data"
    }
   ],
   "source": [
    "# concatenate biz and biz20 into one dataframe\n",
    "businesses = pd.concat([biz0, biz20],\n",
    "                      ignore_index = True)\n",
    "\n",
    "# display\n",
    "display(businesses.head(3), businesses.tail(3))"
   ]
  },
  {
   "cell_type": "markdown",
   "id": "97fe6e88",
   "metadata": {},
   "source": [
    "## 5. Save the businesses as a records-oriented JSON file. (df.to_json(orient='records'))"
   ]
  },
  {
   "cell_type": "code",
   "execution_count": 25,
   "id": "064d74a6",
   "metadata": {},
   "outputs": [],
   "source": [
    "# save businesses df to json variable\n",
    "businesses_records = businesses.to_json(orient = 'records')"
   ]
  },
  {
   "cell_type": "code",
   "execution_count": 26,
   "id": "649e5518",
   "metadata": {},
   "outputs": [],
   "source": [
    "# save to json file\n",
    "with open('businesses_records.json', 'w') as f:\n",
    "    json.dump(businesses_records, f)"
   ]
  },
  {
   "cell_type": "code",
   "execution_count": null,
   "id": "69aa15ef",
   "metadata": {},
   "outputs": [],
   "source": []
  }
 ],
 "metadata": {
  "kernelspec": {
   "display_name": "Python (dojo-env)",
   "language": "python",
   "name": "dojo-env"
  },
  "language_info": {
   "codemirror_mode": {
    "name": "ipython",
    "version": 3
   },
   "file_extension": ".py",
   "mimetype": "text/x-python",
   "name": "python",
   "nbconvert_exporter": "python",
   "pygments_lexer": "ipython3",
   "version": "3.9.15"
  },
  "toc": {
   "base_numbering": 1,
   "nav_menu": {},
   "number_sections": false,
   "sideBar": true,
   "skip_h1_title": false,
   "title_cell": "Table of Contents",
   "title_sidebar": "Contents",
   "toc_cell": false,
   "toc_position": {},
   "toc_section_display": true,
   "toc_window_display": false
  }
 },
 "nbformat": 4,
 "nbformat_minor": 5
}
